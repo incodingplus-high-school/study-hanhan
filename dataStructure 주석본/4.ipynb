{
 "cells": [
  {
   "cell_type": "code",
   "execution_count": 15,
   "metadata": {},
   "outputs": [
    {
     "name": "stdout",
     "output_type": "stream",
     "text": [
      "---- 0\n",
      "-\n",
      "--\n",
      "-\n",
      "---\n",
      "-\n",
      "--\n",
      "-\n",
      "---- 1\n",
      "-\n",
      "--\n",
      "-\n",
      "---\n",
      "-\n",
      "--\n",
      "-\n",
      "---- 2\n"
     ]
    }
   ],
   "source": [
    "def drawRuler(tick:int, meter:int):\n",
    "    def drawTick(length:int):\n",
    "        if(length == 1):\n",
    "            print(\"-\")\n",
    "            return\n",
    "        drawTick(length - 1) # 조그만한 조각 3개 만듬\n",
    "        print(\"-\" * length) # 사이에 큰조각 하나\n",
    "        drawTick(length - 1) # 조그만한 조각 3개 만듬\n",
    "    for i in range(0, meter):\n",
    "        print(f\"{'-' * tick} {i}\")\n",
    "        drawTick(tick - 1)\n",
    "    print(f\"{'-' * tick} {meter}\")\n",
    "\n",
    "drawRuler(4, 2)\n",
    "\n",
    "# 174p\n",
    "        "
   ]
  },
  {
   "cell_type": "code",
   "execution_count": 16,
   "metadata": {},
   "outputs": [
    {
     "data": {
      "text/plain": [
       "11"
      ]
     },
     "execution_count": 16,
     "metadata": {},
     "output_type": "execute_result"
    }
   ],
   "source": [
    "\n",
    "datas = [13530, 15701, 44365, 70626, 72965, 82325, 83736, 102838, 105809, 115286, 117347, 132886, 141733, 156452, 170419, 207050, 207271, 208061, 223479, 223607, 233894, 241420, 244973, 251468, 253980, 262039, 264552, 266491, 271918, 272746, 273837, 278567, 289519, 292335, 294007, 323415, 325770, 328498, 329835, 351154, 375718, 379169, 379517, 384023, 386737, 393936, 399889, 404020, 413165, 440478, 474539, 476342, 477691, 486732, 510758, 519611, 520605, 526407, 537207, 583164, 587375, 591474, 592005, 602605, 617334, 624820, 631939, 653488, 659475, 661947, 666065, 676431, 688647, 694766, 715707, 733161, 736103, 738332, 743215, 754714, 757584, 760949, 768290, 769890, 784641, 820338, 821217, 867638, 886925, 898265, 902743, 932196, 939076, 939272, 943086, 969432, 970178, 971070, 988756, 997971]\n",
    "\n",
    "def sibal(data, target, low, high):\n",
    "    if low > high: # high 보다 low 클 경우는 잘 못 된경우 이기 때문에 return False 해준다.\n",
    "        return False\n",
    "    else:\n",
    "        mid = (low + high) // 2 # 중간 순서 부터 시작\n",
    "        if(target == data[mid]): # 원하는 값인 target 이랑 mid 번째 값이 같을때 그 값을 retun mid\n",
    "            return mid\n",
    "        elif target < data[mid]: \n",
    "            # target 보다 data[mid] 클경우 high에 현재 mid값을 제외한 mid - 1을 넣어 범위 줄여준다 \n",
    "            return sibal(data, target, low, mid - 1)\n",
    "        else:\n",
    "            # target 보다 data[mid] 작을경우 low에 현재 mid값을 제외한 mid - 1을 넣어 범위 줄여준다 \n",
    "            return sibal(data, target, mid + 1, high)\n",
    "\n",
    "sibal(datas, 132886, 0, len(datas) - 1)"
   ]
  }
 ],
 "metadata": {
  "kernelspec": {
   "display_name": "Python 3",
   "language": "python",
   "name": "python3"
  },
  "language_info": {
   "codemirror_mode": {
    "name": "ipython",
    "version": 3
   },
   "file_extension": ".py",
   "mimetype": "text/x-python",
   "name": "python",
   "nbconvert_exporter": "python",
   "pygments_lexer": "ipython3",
   "version": "3.11.1"
  },
  "orig_nbformat": 4,
  "vscode": {
   "interpreter": {
    "hash": "8a5edab282632443219e051e4ade2d1d5bbc671c781051bf1437897cbdfea0f1"
   }
  }
 },
 "nbformat": 4,
 "nbformat_minor": 2
}
