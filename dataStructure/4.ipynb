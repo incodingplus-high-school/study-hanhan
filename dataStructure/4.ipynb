{
 "cells": [
  {
   "cell_type": "code",
   "execution_count": null,
   "metadata": {},
   "outputs": [],
   "source": [
    "\n",
    "def drawRuler(tick:int, meter:int):\n",
    "    def drawTick(length:int):\n",
    "        if(length == 1):\n",
    "            print(\"-\")\n",
    "            return\n",
    "        drawTick(length - 1)\n",
    "        print(\"-\" * length)\n",
    "        drawTick(length - 1)\n",
    "    for i in range(0, meter):\n",
    "        print(f\"{'-' * tick} {i}\")\n",
    "        drawTick(tick - 1)\n",
    "    print(f\"{'-' * tick} {meter}\")\n",
    "drawRuler(4, 2)"
   ]
  },
  {
   "cell_type": "code",
   "execution_count": null,
   "metadata": {},
   "outputs": [],
   "source": [
    "import numpy as np\n",
    "\n",
    "t = np.random.randint(0, 1000000, 100)\n",
    "t.sort()\n",
    "arr = np.unique(t).tolist()"
   ]
  },
  {
   "cell_type": "code",
   "execution_count": null,
   "metadata": {},
   "outputs": [],
   "source": [
    "print(arr)\n",
    "def search(arr:list[int], min:int, max:int, find:int):\n",
    "    mid = (min + max) // 2\n",
    "    if arr[mid] == find: return mid\n",
    "    elif arr[mid] > find: return search(arr, min, mid - 1, find)\n",
    "    else: return search(arr, mid + 1, max, find)\n",
    "\n",
    "search(arr, 0, len(arr) - 1, 232701)"
   ]
  },
  {
   "attachments": {},
   "cell_type": "markdown",
   "metadata": {},
   "source": [
    "1. 내가 찾는 값보다 작은 최대값을 리턴하는 함수 만들기\n",
    "2. 두개 구현하기\n",
    "   1. lower bound : 내가 찾고자 하는 값의 이상이 처음 나오는 곳\n",
    "   2. upper bound : 내가 찾고자 하는 값의 이하가 처음 나오는 곳\n",
    "3. 하노이의 탑을 푸는 과정을 프린트하는 함수 만들기\n",
    "\n",
    "A, B, C 기둥 (A 3개)\n",
    "A에서 B로 1번\n",
    "A에서 C로 2번\n",
    "B에서 C로 1번\n",
    "A에서 B로 3번\n",
    "C에서 A로 1번\n",
    "C에서 B로 2번\n",
    "A에서 B로 1번"
   ]
  },
  {
   "cell_type": "code",
   "execution_count": null,
   "metadata": {},
   "outputs": [],
   "source": [
    "def hanoi(rings, a, c, b):\n",
    "    if rings == 1:\n",
    "        print(f\"{a}->{c}, {rings}번\")\n",
    "        return\n",
    "    hanoi(rings - 1, a, b, c)\n",
    "    print(f\"{a}->{c}, {rings}번\")\n",
    "    hanoi(rings - 1, b, c, a)\n",
    "\n",
    "hanoi(3, 'a', 'c', 'b')"
   ]
  },
  {
   "cell_type": "code",
   "execution_count": null,
   "metadata": {},
   "outputs": [],
   "source": [
    "import os\n",
    "def find(base:str):\n",
    "    li = os.listdir(base)\n",
    "    for i in li:\n",
    "        cur = os.path.join(base, i)\n",
    "        if os.path.isdir(cur):\n",
    "            find(cur)\n",
    "        else:\n",
    "            print(cur)\n",
    "find('/home/chocol8')"
   ]
  },
  {
   "cell_type": "code",
   "execution_count": 10,
   "metadata": {},
   "outputs": [
    {
     "data": {
      "text/plain": [
       "False"
      ]
     },
     "execution_count": 10,
     "metadata": {},
     "output_type": "execute_result"
    }
   ],
   "source": [
    "def check(str:str, ind:int = 0):\n",
    "    last = len(str) - ind - 1\n",
    "    if ind >= last: return True\n",
    "    elif str[ind] != str[last]: return False\n",
    "    else: return check(str, ind + 1)\n",
    "check('gohangasalamiimalasagnaho')"
   ]
  },
  {
   "cell_type": "code",
   "execution_count": 17,
   "metadata": {},
   "outputs": [
    {
     "data": {
      "text/plain": [
       "[{1, 2, 3}, {1, 2}, {1, 3}, {1}, {2, 3}, {2}, {3}, set()]"
      ]
     },
     "execution_count": 17,
     "metadata": {},
     "output_type": "execute_result"
    }
   ],
   "source": [
    "def pick(_all:list[int], _cur:set[int] = {})->list[set[int]]:\n",
    "    if len(_all) == 0:\n",
    "        return [ _cur ]\n",
    "    all = _all[1:]\n",
    "    cur1 = set(_cur)\n",
    "    cur1.add(_all[0])\n",
    "    cur2 = set(_cur)\n",
    "    res = []\n",
    "    res.extend(pick(all, cur1))\n",
    "    res.extend(pick(all, cur2))\n",
    "    return res\n",
    "pick([1,2,3])"
   ]
  },
  {
   "cell_type": "code",
   "execution_count": 21,
   "metadata": {},
   "outputs": [
    {
     "data": {
      "text/plain": [
       "0"
      ]
     },
     "execution_count": 21,
     "metadata": {},
     "output_type": "execute_result"
    }
   ],
   "source": [
    "def findJAMO(str:str, num = 0):\n",
    "    if len(str) == 0:\n",
    "        if num > 0: return 1\n",
    "        elif num < 0: return -1\n",
    "        else: return 0\n",
    "    if str[0] in 'aeiouAEIOU':\n",
    "        return findJAMO(str[1:], num - 1)\n",
    "    else: return findJAMO(str[1:], num + 1)\n",
    "findJAMO(\"aIdg\")"
   ]
  },
  {
   "cell_type": "code",
   "execution_count": 45,
   "metadata": {},
   "outputs": [
    {
     "name": "stdout",
     "output_type": "stream",
     "text": [
      "[60, 31, 2, 42, 29, 34, 1, 73, 12, 64, 30, 49, 51, 82, 41, 0, 19, 43, 99, 62, 13, 9, 74, 71, 68, 99, 12, 18, 46, 86, 79, 26, 3, 86, 0, 3, 0, 28, 92, 92, 97, 25, 79, 20, 57, 81, 9, 39, 88, 15, 19, 75, 21, 23, 91, 79, 92, 54, 28, 8, 23, 27, 0, 60, 73, 28, 52, 81, 40, 54, 46, 31, 51, 81, 48, 49, 72, 26, 68, 53, 57, 50, 13, 58, 26, 70, 79, 95, 50, 21, 41, 71, 70, 41, 36, 43, 69, 43, 62, 81]\n",
      "[0, 99]\n"
     ]
    }
   ],
   "source": [
    "import random\n",
    "li = [int(random.random() * 100) for _ in range(0, 100)]\n",
    "def findMinMax(li:list[float], min = float('inf'), max = float('-inf')):\n",
    "    if len(li) == 0: return [min, max]\n",
    "    curMin = min\n",
    "    curMax = max\n",
    "    if li[0] < min: curMin = li[0]\n",
    "    if li[0] > max: curMax = li[0]\n",
    "    return findMinMax(li[1:], curMin, curMax)\n",
    "\n",
    "print(li)\n",
    "print(findMinMax(li))"
   ]
  }
 ],
 "metadata": {
  "kernelspec": {
   "display_name": "Python 3",
   "language": "python",
   "name": "python3"
  },
  "language_info": {
   "codemirror_mode": {
    "name": "ipython",
    "version": 3
   },
   "file_extension": ".py",
   "mimetype": "text/x-python",
   "name": "python",
   "nbconvert_exporter": "python",
   "pygments_lexer": "ipython3",
   "version": "3.10.6"
  },
  "orig_nbformat": 4,
  "vscode": {
   "interpreter": {
    "hash": "916dbcbb3f70747c44a77c7bcd40155683ae19c65e1c03b4aa3499c5328201f1"
   }
  }
 },
 "nbformat": 4,
 "nbformat_minor": 2
}
