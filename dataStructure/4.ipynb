{
 "cells": [
  {
   "cell_type": "code",
   "execution_count": null,
   "metadata": {},
   "outputs": [],
   "source": [
    "\n",
    "def drawRuler(tick:int, meter:int):\n",
    "    def drawTick(length:int):\n",
    "        if(length == 1):\n",
    "            print(\"-\")\n",
    "            return\n",
    "        drawTick(length - 1)\n",
    "        print(\"-\" * length)\n",
    "        drawTick(length - 1)\n",
    "    for i in range(0, meter):\n",
    "        print(f\"{'-' * tick} {i}\")\n",
    "        drawTick(tick - 1)\n",
    "    print(f\"{'-' * tick} {meter}\")\n",
    "drawRuler(4, 2)"
   ]
  },
  {
   "cell_type": "code",
   "execution_count": null,
   "metadata": {},
   "outputs": [],
   "source": [
    "import numpy as np\n",
    "\n",
    "t = np.random.randint(0, 1000000, 100)\n",
    "t.sort()\n",
    "arr = np.unique(t).tolist()"
   ]
  },
  {
   "cell_type": "code",
   "execution_count": null,
   "metadata": {},
   "outputs": [],
   "source": [
    "print(arr)\n",
    "def search(arr:list[int], min:int, max:int, find:int):\n",
    "    mid = (min + max) // 2\n",
    "    if arr[mid] == find: return mid\n",
    "    elif arr[mid] > find: return search(arr, min, mid - 1, find)\n",
    "    else: return search(arr, mid + 1, max, find)\n",
    "\n",
    "search(arr, 0, len(arr) - 1, 232701)"
   ]
  },
  {
   "attachments": {},
   "cell_type": "markdown",
   "metadata": {},
   "source": [
    "1. 내가 찾는 값보다 작은 최대값을 리턴하는 함수 만들기\n",
    "2. 두개 구현하기\n",
    "   1. lower bound : 내가 찾고자 하는 값의 이상이 처음 나오는 곳\n",
    "   2. upper bound : 내가 찾고자 하는 값의 이하가 처음 나오는 곳\n",
    "3. 하노이의 탑을 푸는 과정을 프린트하는 함수 만들기\n",
    "\n",
    "A, B, C 기둥 (A 3개)\n",
    "A에서 B로 1번\n",
    "A에서 C로 2번\n",
    "B에서 C로 1번\n",
    "A에서 B로 3번\n",
    "C에서 A로 1번\n",
    "C에서 B로 2번\n",
    "A에서 B로 1번"
   ]
  },
  {
   "cell_type": "code",
   "execution_count": null,
   "metadata": {},
   "outputs": [],
   "source": [
    "def hanoi(rings, a, c, b):\n",
    "    if rings == 1:\n",
    "        print(f\"{a}->{c}, {rings}번\")\n",
    "        return\n",
    "    hanoi(rings - 1, a, b, c)\n",
    "    print(f\"{a}->{c}, {rings}번\")\n",
    "    hanoi(rings - 1, b, c, a)\n",
    "\n",
    "hanoi(3, 'a', 'c', 'b')"
   ]
  },
  {
   "cell_type": "code",
   "execution_count": null,
   "metadata": {},
   "outputs": [],
   "source": [
    "import os\n",
    "def find(base:str):\n",
    "    li = os.listdir(base)\n",
    "    for i in li:\n",
    "        cur = os.path.join(base, i)\n",
    "        if os.path.isdir(cur):\n",
    "            find(cur)\n",
    "        else:\n",
    "            print(cur)\n",
    "find('/home/chocol8')"
   ]
  },
  {
   "cell_type": "code",
   "execution_count": 10,
   "metadata": {},
   "outputs": [
    {
     "data": {
      "text/plain": [
       "False"
      ]
     },
     "execution_count": 10,
     "metadata": {},
     "output_type": "execute_result"
    }
   ],
   "source": [
    "def check(str:str, ind:int = 0):\n",
    "    last = len(str) - ind - 1\n",
    "    if ind >= last: return True\n",
    "    elif str[ind] != str[last]: return False\n",
    "    else: return check(str, ind + 1)\n",
    "check('gohangasalamiimalasagnaho')"
   ]
  }
 ],
 "metadata": {
  "kernelspec": {
   "display_name": "Python 3",
   "language": "python",
   "name": "python3"
  },
  "language_info": {
   "codemirror_mode": {
    "name": "ipython",
    "version": 3
   },
   "file_extension": ".py",
   "mimetype": "text/x-python",
   "name": "python",
   "nbconvert_exporter": "python",
   "pygments_lexer": "ipython3",
   "version": "3.10.6"
  },
  "orig_nbformat": 4,
  "vscode": {
   "interpreter": {
    "hash": "916dbcbb3f70747c44a77c7bcd40155683ae19c65e1c03b4aa3499c5328201f1"
   }
  }
 },
 "nbformat": 4,
 "nbformat_minor": 2
}
