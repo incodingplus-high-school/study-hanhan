{
 "cells": [
  {
   "cell_type": "code",
   "execution_count": 8,
   "metadata": {},
   "outputs": [
    {
     "name": "stdout",
     "output_type": "stream",
     "text": [
      "---- 0\n",
      "-\n",
      "--\n",
      "-\n",
      "---\n",
      "-\n",
      "--\n",
      "-\n",
      "---- 1\n",
      "-\n",
      "--\n",
      "-\n",
      "---\n",
      "-\n",
      "--\n",
      "-\n",
      "---- 2\n"
     ]
    }
   ],
   "source": [
    "\n",
    "def drawRuler(tick:int, meter:int):\n",
    "    def drawTick(length:int):\n",
    "        if(length == 1):\n",
    "            print(\"-\")\n",
    "            return\n",
    "        drawTick(length - 1)\n",
    "        print(\"-\" * length)\n",
    "        drawTick(length - 1)\n",
    "    for i in range(0, meter):\n",
    "        print(f\"{'-' * tick} {i}\")\n",
    "        drawTick(tick - 1)\n",
    "    print(f\"{'-' * tick} {meter}\")\n",
    "drawRuler(4, 2)"
   ]
  },
  {
   "cell_type": "code",
   "execution_count": 1,
   "metadata": {},
   "outputs": [],
   "source": [
    "import numpy as np\n",
    "\n",
    "t = np.random.randint(0, 1000000, 100)\n",
    "t.sort()\n",
    "arr = np.unique(t).tolist()"
   ]
  },
  {
   "cell_type": "code",
   "execution_count": 5,
   "metadata": {},
   "outputs": [
    {
     "name": "stdout",
     "output_type": "stream",
     "text": [
      "[14158, 26889, 44318, 55447, 74179, 77866, 78407, 79179, 82688, 86611, 88417, 111229, 118132, 127325, 130698, 134558, 140843, 149062, 157444, 160484, 170741, 201844, 208717, 211196, 211249, 214740, 219165, 232701, 268230, 276247, 288387, 289060, 331179, 342706, 346896, 347617, 351896, 358647, 372404, 379061, 389415, 393075, 403180, 418184, 431785, 433507, 461638, 465463, 467345, 491563, 504784, 520314, 528913, 550692, 558796, 561792, 564453, 584839, 592177, 598894, 627544, 629797, 632274, 637518, 642810, 674634, 692284, 707858, 708135, 745963, 764218, 769862, 783556, 785986, 792854, 797351, 804885, 808742, 809921, 813525, 816845, 818640, 830399, 835380, 836808, 845702, 849844, 849918, 858211, 861830, 877258, 913639, 920178, 920512, 939877, 968470, 972026, 986375, 988751, 996294]\n"
     ]
    },
    {
     "data": {
      "text/plain": [
       "27"
      ]
     },
     "execution_count": 5,
     "metadata": {},
     "output_type": "execute_result"
    }
   ],
   "source": [
    "print(arr)\n",
    "def search(arr:list[int], min:int, max:int, find:int):\n",
    "    mid = (min + max) // 2\n",
    "    if arr[mid] == find: return mid\n",
    "    elif arr[mid] > find: return search(arr, min, mid - 1, find)\n",
    "    else: return search(arr, mid + 1, max, find)\n",
    "\n",
    "search(arr, 0, len(arr) - 1, 232701)"
   ]
  },
  {
   "attachments": {},
   "cell_type": "markdown",
   "metadata": {},
   "source": [
    "1. 내가 찾는 값보다 작은 최대값을 리턴하는 함수 만들기\n",
    "2. 두개 구현하기\n",
    "   1. lower bound : 내가 찾고자 하는 값의 이상이 처음 나오는 곳\n",
    "   2. upper bound : 내가 찾고자 하는 값의 이하가 처음 나오는 곳\n",
    "3. 하노이의 탑을 푸는 과정을 프린트하는 함수 만들기\n",
    "\n",
    "A, B, C 기둥 (A 3개)\n",
    "A에서 B로 1번\n",
    "A에서 C로 2번\n",
    "B에서 C로 1번\n",
    "A에서 B로 3번\n",
    "C에서 A로 1번\n",
    "C에서 B로 2번\n",
    "A에서 B로 1번"
   ]
  }
 ],
 "metadata": {
  "kernelspec": {
   "display_name": "Python 3",
   "language": "python",
   "name": "python3"
  },
  "language_info": {
   "codemirror_mode": {
    "name": "ipython",
    "version": 3
   },
   "file_extension": ".py",
   "mimetype": "text/x-python",
   "name": "python",
   "nbconvert_exporter": "python",
   "pygments_lexer": "ipython3",
   "version": "3.10.6"
  },
  "orig_nbformat": 4,
  "vscode": {
   "interpreter": {
    "hash": "916dbcbb3f70747c44a77c7bcd40155683ae19c65e1c03b4aa3499c5328201f1"
   }
  }
 },
 "nbformat": 4,
 "nbformat_minor": 2
}
