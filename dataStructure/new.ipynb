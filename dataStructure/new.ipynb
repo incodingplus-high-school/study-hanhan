{
 "cells": [
  {
   "cell_type": "markdown",
   "metadata": {},
   "source": [
    "# python magic method\n",
    "\n",
    "```python\n",
    "# 인스턴스 생성시 호출되는 함수\n",
    "def __init__\n",
    "\n",
    "# 덧셈\n",
    "def __add__\n",
    "\n",
    "# len 함수 출력시\n",
    "def __len__\n",
    "\n",
    "# == 연산자 사용시\n",
    "def __eq__\n",
    "```"
   ]
  },
  {
   "cell_type": "code",
   "execution_count": 2,
   "metadata": {},
   "outputs": [
    {
     "name": "stdout",
     "output_type": "stream",
     "text": [
      "7, 11\n"
     ]
    }
   ],
   "source": [
    "import math\n",
    "\n",
    "class Pos :\n",
    "    x:int = 0\n",
    "    y:int = 0\n",
    "    def __init__(self, x:int, y:int) -> None:\n",
    "        self.x = x\n",
    "        self.y = y\n",
    "\n",
    "    def __str__(self) -> str:\n",
    "        return F\"{self.x}, {self.y}\"\n",
    "\n",
    "    def __abs__(self) -> int:\n",
    "        return math.sqrt(self.x ** 2 + self.y ** 2)\n",
    "\n",
    "    def __add__(self, p2:'Pos') -> 'Pos':\n",
    "        return Pos(self.x + p2.x, self.y + p2.y)\n",
    "\n",
    "    def __sub__(self, p2:'Pos') -> 'Pos':\n",
    "        return Pos(self.x - p2.x, self.y - p2.y)\n",
    "\n",
    "    def __mul__(self, p2:'Pos') -> int:\n",
    "        return self.x * p2.x + self.y * p2.y\n",
    "\n",
    "# pos1 : instance\n",
    "# Pos : class1\n",
    "\n",
    "pos1 = Pos(4, 6)\n",
    "pos2 = Pos(3, 5)\n",
    "print(pos1 + pos2)"
   ]
  },
  {
   "cell_type": "code",
   "execution_count": null,
   "metadata": {},
   "outputs": [],
   "source": [
    "import math\n",
    "\n"
   ]
  }
 ],
 "metadata": {
  "kernelspec": {
   "display_name": "Python 3.11.1 64-bit",
   "language": "python",
   "name": "python3"
  },
  "language_info": {
   "codemirror_mode": {
    "name": "ipython",
    "version": 3
   },
   "file_extension": ".py",
   "mimetype": "text/x-python",
   "name": "python",
   "nbconvert_exporter": "python",
   "pygments_lexer": "ipython3",
   "version": "3.11.2"
  },
  "orig_nbformat": 4,
  "vscode": {
   "interpreter": {
    "hash": "ff4b1fca65a764b45acb559e482afe389d289dd599b9f8c5fd12ff5c2ea46a65"
   }
  }
 },
 "nbformat": 4,
 "nbformat_minor": 2
}
