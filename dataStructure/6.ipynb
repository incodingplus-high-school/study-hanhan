{
 "cells": [
  {
   "attachments": {},
   "cell_type": "markdown",
   "metadata": {},
   "source": [
    "# python magic method\n",
    "\n",
    "```python\n",
    "# 인스턴스 생성시 호출되는 함수\n",
    "def __init__\n",
    "\n",
    "# 덧셈\n",
    "def __add__\n",
    "\n",
    "# len 함수 출력\n",
    "def __len__\n",
    "\n",
    "# == 썼을 때\n",
    "def __eq__\n",
    "```\n",
    "\n"
   ]
  },
  {
   "cell_type": "code",
   "execution_count": 14,
   "metadata": {},
   "outputs": [
    {
     "name": "stdout",
     "output_type": "stream",
     "text": [
      "29\n"
     ]
    }
   ],
   "source": [
    "class Pos:\n",
    "    x:int = 0\n",
    "    y:int = 0\n",
    "    def __init__(self, x:int, y:int) -> None:\n",
    "        self.x = x\n",
    "        self.y = y\n",
    "        \n",
    "    def __str__(self) -> str:\n",
    "        return f\"({self.x}, {self.y})\"\n",
    "    \n",
    "    def __abs__(self) -> float:\n",
    "        return (self.x ** 2 + self.y ** 2) ** 0.5\n",
    "    \n",
    "    def __add__(self, other:'Pos') -> 'Pos':\n",
    "        pos = Pos(self.x, self.y)\n",
    "        pos.x += other.x\n",
    "        pos.y += other.y\n",
    "        return pos\n",
    "    \n",
    "    def __sub__(self, other:'Pos') -> 'Pos':\n",
    "        pos = Pos(self.x, self.y)\n",
    "        pos.x -= other.x\n",
    "        pos.y -= other.y\n",
    "        return pos\n",
    "    \n",
    "    def __mul__(self, other:'Pos') -> int:\n",
    "        return self.x * other.x + self.y * other.y\n",
    "    \n",
    "# pos1 : instance\n",
    "# Pos : class\n",
    "pos1 = Pos(7, 5)\n",
    "pos2 = Pos(2, 3)\n",
    "print(pos1 * pos2)"
   ]
  },
  {
   "cell_type": "code",
   "execution_count": 20,
   "metadata": {},
   "outputs": [
    {
     "name": "stdout",
     "output_type": "stream",
     "text": [
      "(16, 13)\n"
     ]
    }
   ],
   "source": [
    "pos3 = pos1 + pos2\n",
    "print(pos3 + pos1)"
   ]
  },
  {
   "attachments": {},
   "cell_type": "markdown",
   "metadata": {},
   "source": [
    "숙제\n",
    "\n",
    "1. 책 Exercise 4-9, 4-12. 4-13, 4-14, 4-18, 4-15 이거 풀 것\n",
    "2. 다음 클래스를 만드시오.\n",
    "   1. `PersonInfo` 클래스를 만들 것\n",
    "   2. `name`, `birth`, `gender`\n",
    "   3. `birth`의 형식은 `1994-08-03` 이런식의 문자열\n",
    "   4. `gender`는 `True`, `False` 로 (`True`면 남자, `False`면 여자)\n",
    "   5. `print` 하면 `이름은 김한결, 1994년 8월 3일생 남자입니다.` 이런식으로 출력할 것\n",
    "   6. `abs` 를 실행할 경우 현재까지 살아온 일수가 나올 것\n",
    "   7. `>=`, `<=`, `>`, `<`, 등의 논리는 살아온 일수로 계산할 것\n",
    "   8. `==`과 `!=`는 `name`, `birth`, `gender`가 모두 같은 경우로 계산할 것"
   ]
  },
  {
   "cell_type": "code",
   "execution_count": null,
   "metadata": {},
   "outputs": [],
   "source": [
    "pos1 = Pos(1, 2)\n",
    "pos2 = Pos(3, 4)\n",
    "pos1 + pos2\n",
    "# pos1.__add__(pos2)"
   ]
  }
 ],
 "metadata": {
  "kernelspec": {
   "display_name": "Python 3",
   "language": "python",
   "name": "python3"
  },
  "language_info": {
   "codemirror_mode": {
    "name": "ipython",
    "version": 3
   },
   "file_extension": ".py",
   "mimetype": "text/x-python",
   "name": "python",
   "nbconvert_exporter": "python",
   "pygments_lexer": "ipython3",
   "version": "3.11.1"
  },
  "orig_nbformat": 4,
  "vscode": {
   "interpreter": {
    "hash": "4e99742b0211a168e899a542aeb7ebc885ad0cf702d76a1dcf543780c1c33967"
   }
  }
 },
 "nbformat": 4,
 "nbformat_minor": 2
}
