{
 "cells": [
  {
   "attachments": {},
   "cell_type": "markdown",
   "metadata": {},
   "source": [
    "# python magic method\n",
    "\n",
    "```python\n",
    "# 인스턴스 생성시 호출되는 함수\n",
    "def __init__\n",
    "\n",
    "# 덧셈\n",
    "def __add__\n",
    "\n",
    "# len 함수 출력\n",
    "def __len__\n",
    "\n",
    "# == 썼을 때\n",
    "def __eq__\n",
    "```\n",
    "\n"
   ]
  },
  {
   "cell_type": "code",
   "execution_count": 14,
   "metadata": {},
   "outputs": [
    {
     "name": "stdout",
     "output_type": "stream",
     "text": [
      "29\n"
     ]
    }
   ],
   "source": [
    "class Pos:\n",
    "    x:int = 0\n",
    "    y:int = 0\n",
    "    def __init__(self, x:int, y:int) -> None:\n",
    "        self.x = x\n",
    "        self.y = y\n",
    "        \n",
    "    def __str__(self) -> str:\n",
    "        return f\"({self.x}, {self.y})\"\n",
    "    \n",
    "    def __abs__(self) -> float:\n",
    "        return (self.x ** 2 + self.y ** 2) ** 0.5\n",
    "    \n",
    "    def __add__(self, other:'Pos') -> 'Pos':\n",
    "        pos = Pos(self.x, self.y)\n",
    "        pos.x += other.x\n",
    "        pos.y += other.y\n",
    "        return pos\n",
    "    \n",
    "    def __sub__(self, other:'Pos') -> 'Pos':\n",
    "        pos = Pos(self.x, self.y)\n",
    "        pos.x -= other.x\n",
    "        pos.y -= other.y\n",
    "        return pos\n",
    "    \n",
    "    def __mul__(self, other:'Pos') -> int:\n",
    "        return self.x * other.x + self.y * other.y\n",
    "    \n",
    "# pos1 : instance\n",
    "# Pos : class\n",
    "pos1 = Pos(7, 5)\n",
    "pos2 = Pos(2, 3)\n",
    "print(pos1 * pos2)"
   ]
  },
  {
   "cell_type": "code",
   "execution_count": 20,
   "metadata": {},
   "outputs": [
    {
     "name": "stdout",
     "output_type": "stream",
     "text": [
      "(16, 13)\n"
     ]
    }
   ],
   "source": [
    "pos3 = pos1 + pos2\n",
    "print(pos3 + pos1)"
   ]
  },
  {
   "attachments": {},
   "cell_type": "markdown",
   "metadata": {},
   "source": [
    "숙제\n",
    "\n",
    "1. 책 Exercise 4-9, 4-12. 4-13, 4-14, 4-18, 4-15 이거 풀 것\n",
    "2. 다음 클래스를 만드시오.\n",
    "   1. `PersonInfo` 클래스를 만들 것\n",
    "   2. `name`, `birth`, `gender`\n",
    "   3. `birth`의 형식은 `1994-08-03` 이런식의 문자열\n",
    "   4. `gender`는 `True`, `False` 로 (`True`면 남자, `False`면 여자)\n",
    "   5. `print` 하면 `이름은 김한결, 1994년 8월 3일생 남자입니다.` 이런식으로 출력할 것\n",
    "   6. `abs` 를 실행할 경우 현재까지 살아온 일수가 나올 것\n",
    "   7. `>=`, `<=`, `>`, `<`, 등의 논리는 살아온 일수로 계산할 것\n",
    "   8. `==`과 `!=`는 `name`, `birth`, `gender`가 모두 같은 경우로 계산할 것"
   ]
  },
  {
   "cell_type": "code",
   "execution_count": null,
   "metadata": {},
   "outputs": [],
   "source": [
    "pos1 = Pos(1, 2)\n",
    "pos2 = Pos(3, 4)\n",
    "pos1 + pos2\n",
    "# pos1.__add__(pos2)"
   ]
  },
  {
   "cell_type": "code",
   "execution_count": 28,
   "metadata": {},
   "outputs": [
    {
     "name": "stdout",
     "output_type": "stream",
     "text": [
      "True\n"
     ]
    }
   ],
   "source": [
    "import datetime\n",
    "class PersonInfo:\n",
    "    name:str = ''\n",
    "    birth:str = ''\n",
    "    gender:str = ''\n",
    "    days:int = 0\n",
    "\n",
    "    def __init__(self, name:str, birth:str, gender:bool) -> None:\n",
    "        self.name = name\n",
    "        self.birth = birth\n",
    "        self.days = datetime.datetime.now().timestamp() - datetime.datetime.strptime(birth, '%Y-%m-%d').timestamp()\n",
    "        self.days = int(self.days) // (60 * 60 * 24)\n",
    "        if gender: self.gender = '남자'\n",
    "        else: self.gender = '여자'\n",
    "\n",
    "    def __str__(self) -> str:\n",
    "        date = datetime.datetime.strptime(self.birth, '%Y-%m-%d')\n",
    "        return f\"이름은 {self.name}, {date.year}년 {date.month}월 {date.day}일생 {self.gender}입니다.\"\n",
    "\n",
    "    def __abs__(self) -> int:\n",
    "        return self.day\n",
    "\n",
    "    def __lt__(self, other: 'PersonInfo') -> bool: # <\n",
    "        return self.days < other.days\n",
    "    def __le__(self, other: 'PersonInfo') -> bool: # <=\n",
    "        return self.days <= other.days\n",
    "    def __gt__(self, other: 'PersonInfo') -> bool: # >\n",
    "        return self.days > other.days\n",
    "    def __ge__(self, other: 'PersonInfo') -> bool: # >=\n",
    "        return self.days >= other.days\n",
    "    def __eq__(self, other: 'PersonInfo') -> bool: # ==\n",
    "        return self.name == other.name and self.birth == other.birth and self.gender == other.gender\n",
    "    def __ne__(self, other: 'PersonInfo') -> bool: # !=\n",
    "        return not (self == other)\n",
    "\n",
    "per = PersonInfo('임지수', '2006-02-03', True)\n",
    "per2 = PersonInfo('임지수', '2006-02-03', False)\n",
    "print(per != per2)"
   ]
  },
  {
   "cell_type": "code",
   "execution_count": 38,
   "metadata": {},
   "outputs": [
    {
     "name": "stdout",
     "output_type": "stream",
     "text": [
      "10\n",
      "9\n",
      "8\n",
      "6\n",
      "5\n",
      "3\n",
      "2\n",
      "1\n"
     ]
    }
   ],
   "source": [
    "class Node:\n",
    "    left:'Node' = None\n",
    "    right:'Node' = None\n",
    "    data:int\n",
    "    def __init__(self, data:int):\n",
    "        self.data = data\n",
    "        \n",
    "class Tree:\n",
    "    root:'Node' = None\n",
    "    def push(self, data:int):\n",
    "        if not self.root:\n",
    "            self.root = Node(data)\n",
    "            return\n",
    "        cur = self.root\n",
    "        while cur:\n",
    "            if cur.data > data:\n",
    "                if cur.left:\n",
    "                    cur = cur.left\n",
    "                else:\n",
    "                    cur.left = Node(data)\n",
    "                    return\n",
    "            elif cur.data < data:\n",
    "                if cur.right:\n",
    "                    cur = cur.right\n",
    "                else:\n",
    "                    cur.right = Node(data)\n",
    "                    return \n",
    "            else: return data\n",
    "            \n",
    "            \n",
    "tree = Tree()\n",
    "tree.push(1)\n",
    "tree.push(3)\n",
    "tree.push(2)\n",
    "tree.push(8)\n",
    "tree.push(9)\n",
    "tree.push(10)\n",
    "tree.push(5)\n",
    "tree.push(6)\n",
    "\n",
    "def jung(node:'Node'):\n",
    "    if node.left: jung(node.left)\n",
    "    print(node.data)\n",
    "    if node.right: jung(node.right)\n",
    "\n",
    "\n",
    "jung(tree.root)"
   ]
  }
 ],
 "metadata": {
  "kernelspec": {
   "display_name": "Python 3",
   "language": "python",
   "name": "python3"
  },
  "language_info": {
   "codemirror_mode": {
    "name": "ipython",
    "version": 3
   },
   "file_extension": ".py",
   "mimetype": "text/x-python",
   "name": "python",
   "nbconvert_exporter": "python",
   "pygments_lexer": "ipython3",
   "version": "3.10.6"
  },
  "orig_nbformat": 4,
  "vscode": {
   "interpreter": {
    "hash": "916dbcbb3f70747c44a77c7bcd40155683ae19c65e1c03b4aa3499c5328201f1"
   }
  }
 },
 "nbformat": 4,
 "nbformat_minor": 2
}
