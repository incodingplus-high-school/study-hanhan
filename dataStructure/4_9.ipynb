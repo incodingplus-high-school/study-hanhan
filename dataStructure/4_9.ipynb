{
 "cells": [
  {
   "cell_type": "code",
   "execution_count": 12,
   "metadata": {},
   "outputs": [
    {
     "name": "stdout",
     "output_type": "stream",
     "text": [
      "[94, 67, 79, 14, 98, 50, 96, 44, 38, 30, 38, 24, 73, 49, 74, 50, 56, 74, 95, 30, 40, 47, 71, 92, 75, 97, 19, 81, 27, 55, 55, 38, 40, 28, 45, 79, 95, 37, 58, 82, 7, 53, 94, 25, 91, 23, 97, 73, 55, 62, 38, 23, 91, 30, 78, 84, 50, 61, 27, 85, 43, 86, 45, 41, 57, 67, 61, 22, 44, 31, 69, 40, 84, 7, 79, 4, 67, 29, 78, 18, 24, 79, 0, 72, 66, 10, 23, 3, 74, 28, 11, 84, 90, 63, 84, 0, 6, 98, 5, 34]\n",
      "[0, 98]\n"
     ]
    }
   ],
   "source": [
    "import random\n",
    "li = map(lambda _ : int(random.random() * 100), [i for i in range(0,100)])\n",
    "li =list(li)\n",
    "def find(li:list[float], min = float('inf'), max = float('-inf')):\n",
    "    if len(li) == 0: \n",
    "        return [min, max]\n",
    "    curMin = min\n",
    "    curMax = max\n",
    "    if li[0] < min: curMin = li[0]\n",
    "    if li[0] > max: curMax = li[0]\n",
    "    return find(li[1:], curMin , curMax)\n",
    "print(li)\n",
    "print(find(li))"
   ]
  }
 ],
 "metadata": {
  "kernelspec": {
   "display_name": "Python 3",
   "language": "python",
   "name": "python3"
  },
  "language_info": {
   "codemirror_mode": {
    "name": "ipython",
    "version": 3
   },
   "file_extension": ".py",
   "mimetype": "text/x-python",
   "name": "python",
   "nbconvert_exporter": "python",
   "pygments_lexer": "ipython3",
   "version": "3.11.1"
  },
  "orig_nbformat": 4,
  "vscode": {
   "interpreter": {
    "hash": "1d42a4fd88a2ab5ba2a93520124d60f637055456e509916308a043028a67e448"
   }
  }
 },
 "nbformat": 4,
 "nbformat_minor": 2
}
