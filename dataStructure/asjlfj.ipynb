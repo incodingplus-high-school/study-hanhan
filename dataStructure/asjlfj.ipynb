{
 "cells": [
  {
   "cell_type": "code",
   "execution_count": 6,
   "metadata": {},
   "outputs": [
    {
     "name": "stdout",
     "output_type": "stream",
     "text": [
      "1\n",
      "2\n",
      "3\n",
      "5\n",
      "6\n",
      "8\n",
      "9\n",
      "10\n"
     ]
    }
   ],
   "source": [
    "class Node:\n",
    "    left:'Node' = None\n",
    "    right:'Node' = None\n",
    "    def __init__(self,data:int):\n",
    "        self.data = data\n",
    "\n",
    "class Tree:\n",
    "    root:'Node' = None\n",
    "    def push(self,data:int):\n",
    "        if not self.root:\n",
    "            self.root = Node(data)\n",
    "            return\n",
    "        cur = self.root\n",
    "        while cur:\n",
    "            if cur.data > data:\n",
    "                if cur.left:\n",
    "                    cur = cur.left\n",
    "                else:\n",
    "                    cur.left = Node(data)\n",
    "                    return\n",
    "            elif cur.data < data:\n",
    "                if cur.right:\n",
    "                    cur = cur.right\n",
    "                else:\n",
    "                    cur.right = Node(data)\n",
    "                    return\n",
    "            else: return data\n",
    "\n",
    "\n",
    "tree = Tree()\n",
    "tree.push(1)\n",
    "tree.push(3)\n",
    "tree.push(2)\n",
    "tree.push(8)\n",
    "tree.push(9)\n",
    "tree.push(10)\n",
    "tree.push(5)\n",
    "tree.push(6)\n",
    "\n",
    "\n",
    "def jung(node:'Node'):\n",
    "    if node.left:\n",
    "        jung(node.left)\n",
    "    print(node.data)\n",
    "    if node.right: jung(node.right)\n",
    "\n",
    "jung(tree.root)"
   ]
  },
  {
   "cell_type": "code",
   "execution_count": null,
   "metadata": {},
   "outputs": [],
   "source": []
  }
 ],
 "metadata": {
  "kernelspec": {
   "display_name": "Python 3",
   "language": "python",
   "name": "python3"
  },
  "language_info": {
   "codemirror_mode": {
    "name": "ipython",
    "version": 3
   },
   "file_extension": ".py",
   "mimetype": "text/x-python",
   "name": "python",
   "nbconvert_exporter": "python",
   "pygments_lexer": "ipython3",
   "version": "3.11.1"
  },
  "orig_nbformat": 4,
  "vscode": {
   "interpreter": {
    "hash": "1d42a4fd88a2ab5ba2a93520124d60f637055456e509916308a043028a67e448"
   }
  }
 },
 "nbformat": 4,
 "nbformat_minor": 2
}
