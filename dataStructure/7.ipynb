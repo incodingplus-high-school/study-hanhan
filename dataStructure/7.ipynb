{
 "cells": [
  {
   "cell_type": "code",
   "execution_count": 8,
   "metadata": {},
   "outputs": [
    {
     "name": "stdout",
     "output_type": "stream",
     "text": [
      "30 -> 20 -> 10 -> 100 -> 200\n",
      "20 -> 10 -> 100 -> 200\n",
      "10 -> 100 -> 200\n",
      "100 -> 200\n",
      "200\n",
      "\n"
     ]
    },
    {
     "ename": "Exception",
     "evalue": "리스트가 비어있습니다.",
     "output_type": "error",
     "traceback": [
      "\u001b[0;31m---------------------------------------------------------------------------\u001b[0m",
      "\u001b[0;31mException\u001b[0m                                 Traceback (most recent call last)",
      "Cell \u001b[0;32mIn[8], line 81\u001b[0m\n\u001b[1;32m     79\u001b[0m sll\u001b[39m.\u001b[39mremoveFirst()\n\u001b[1;32m     80\u001b[0m \u001b[39mprint\u001b[39m(sll)\n\u001b[0;32m---> 81\u001b[0m sll\u001b[39m.\u001b[39;49mremoveFirst()\n",
      "Cell \u001b[0;32mIn[8], line 51\u001b[0m, in \u001b[0;36mSLL.removeFirst\u001b[0;34m(self)\u001b[0m\n\u001b[1;32m     49\u001b[0m \u001b[39mdef\u001b[39;00m \u001b[39mremoveFirst\u001b[39m(\u001b[39mself\u001b[39m):\n\u001b[1;32m     50\u001b[0m     \u001b[39mif\u001b[39;00m \u001b[39mself\u001b[39m\u001b[39m.\u001b[39misEmpty():\n\u001b[0;32m---> 51\u001b[0m         \u001b[39mraise\u001b[39;00m \u001b[39mException\u001b[39;00m(\u001b[39m'\u001b[39m\u001b[39m리스트가 비어있습니다.\u001b[39m\u001b[39m'\u001b[39m)\n\u001b[1;32m     52\u001b[0m     \u001b[39mself\u001b[39m\u001b[39m.\u001b[39mhead \u001b[39m=\u001b[39m \u001b[39mself\u001b[39m\u001b[39m.\u001b[39mhead\u001b[39m.\u001b[39mnext\n\u001b[1;32m     53\u001b[0m     \u001b[39mself\u001b[39m\u001b[39m.\u001b[39msize \u001b[39m-\u001b[39m\u001b[39m=\u001b[39m \u001b[39m1\u001b[39m\n",
      "\u001b[0;31mException\u001b[0m: 리스트가 비어있습니다."
     ]
    }
   ],
   "source": [
    "# Singly Linked List\n",
    "from typing import Union\n",
    "\n",
    "class Node:\n",
    "    element:str\n",
    "    next:Union['Node', None]\n",
    "    def __init__(self, element:str, next:Union['Node', None]):\n",
    "        self.element = element\n",
    "        self.next = next\n",
    "        \n",
    "class SLL:\n",
    "    head:Union['Node', None]\n",
    "    size:int\n",
    "    tail:Union['Node', None]\n",
    "    \n",
    "    def __init__(self):\n",
    "        self.head = None\n",
    "        self.size = 0\n",
    "        self.tail = None\n",
    "        \n",
    "    def __len__(self):\n",
    "        return self.size\n",
    "    \n",
    "    def isEmpty(self):\n",
    "        return self.size == 0\n",
    "    \n",
    "    def addFirst(self, val:str):\n",
    "        node = Node(val, None)\n",
    "        if self.isEmpty():\n",
    "            self.head = node\n",
    "            self.tail = node\n",
    "            self.size += 1\n",
    "            return\n",
    "        node.next = self.head\n",
    "        self.head = node\n",
    "        self.size += 1\n",
    "        \n",
    "    def addLast(self, val:str):\n",
    "        node = Node(val, None)\n",
    "        if self.isEmpty():\n",
    "            self.head = node\n",
    "            self.tail = node\n",
    "            self.size += 1\n",
    "            return\n",
    "        self.tail.next = node\n",
    "        self.tail = node\n",
    "        self.size += 1\n",
    "        \n",
    "    def removeFirst(self):\n",
    "        if self.isEmpty():\n",
    "            raise Exception('리스트가 비어있습니다.')\n",
    "        self.head = self.head.next\n",
    "        self.size -= 1\n",
    "    \n",
    "    def __str__(self):\n",
    "        arr = []\n",
    "        cur = self.head\n",
    "        while(cur):\n",
    "            arr.append(cur.element)\n",
    "            cur = cur.next\n",
    "        return ' -> '.join(arr)\n",
    "        \n",
    "sll = SLL()\n",
    "sll.addFirst('10')\n",
    "sll.addFirst('20')\n",
    "sll.addLast('100')\n",
    "sll.addLast('200')\n",
    "sll.addFirst('30')\n",
    "print(sll)\n",
    "\n",
    "sll.removeFirst()\n",
    "print(sll)\n",
    "sll.removeFirst()\n",
    "print(sll)\n",
    "sll.removeFirst()\n",
    "print(sll)\n",
    "sll.removeFirst()\n",
    "print(sll)\n",
    "sll.removeFirst()\n",
    "print(sll)\n",
    "sll.removeFirst()"
   ]
  },
  {
   "attachments": {},
   "cell_type": "markdown",
   "metadata": {},
   "source": [
    "숙제\n",
    "\n",
    "1. Doubly Linked Linked List의 `remove`, `add` 구현하기\n",
    "2. 중위 표현식 역폴란드 표기법으로 바꾸는 코드 작성해오기"
   ]
  }
 ],
 "metadata": {
  "kernelspec": {
   "display_name": "Python 3",
   "language": "python",
   "name": "python3"
  },
  "language_info": {
   "codemirror_mode": {
    "name": "ipython",
    "version": 3
   },
   "file_extension": ".py",
   "mimetype": "text/x-python",
   "name": "python",
   "nbconvert_exporter": "python",
   "pygments_lexer": "ipython3",
   "version": "3.10.6"
  },
  "orig_nbformat": 4
 },
 "nbformat": 4,
 "nbformat_minor": 2
}
