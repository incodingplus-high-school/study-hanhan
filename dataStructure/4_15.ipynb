{
 "cells": [
  {
   "cell_type": "code",
   "execution_count": null,
   "metadata": {},
   "outputs": [],
   "source": [
    "def element(args:tuple[int], cur:tuple[int] = ())->list[tuple[int]]:\n",
    "    li = []\n",
    "    if len(args) == 0:\n",
    "        return [cur]\n",
    "    li.extend(element(args[1:], (*cur,args[0])))\n",
    "    li.extend(element(args[1:], (*cur,)))\n",
    "    return li\n",
    "    \n",
    "print(element((1,2,4,25)))\n",
    "\n",
    "# t = (5,9)\n",
    "# print((*t, 1,2,3))"
   ]
  },
  {
   "cell_type": "code",
   "execution_count": null,
   "metadata": {},
   "outputs": [],
   "source": [
    "ta = (1,2,3)\n",
    "print(len(ta)**2)"
   ]
  }
 ],
 "metadata": {
  "kernelspec": {
   "display_name": "Python 3",
   "language": "python",
   "name": "python3"
  },
  "language_info": {
   "codemirror_mode": {
    "name": "ipython",
    "version": 3
   },
   "file_extension": ".py",
   "mimetype": "text/x-python",
   "name": "python",
   "nbconvert_exporter": "python",
   "pygments_lexer": "ipython3",
   "version": "3.11.1"
  },
  "orig_nbformat": 4,
  "vscode": {
   "interpreter": {
    "hash": "1d42a4fd88a2ab5ba2a93520124d60f637055456e509916308a043028a67e448"
   }
  }
 },
 "nbformat": 4,
 "nbformat_minor": 2
}
