{
 "cells": [
  {
   "cell_type": "code",
   "execution_count": null,
   "metadata": {},
   "outputs": [],
   "source": [
    "q.enque(d.l_del())\n",
    "q.enque(d.l_del())\n",
    "q.enque(d.l_del())\n",
    "q.enque(d.l_del())\n",
    "q.enque(d.l_del())\n",
    "q.deque(d.l_add())\n",
    "q.deque(d.l_add())\n",
    "q.deque(d.l_add())\n",
    "q.deque(d.f_add())\n",
    "q.deque(d.l_add())\n",
    "d.l_add(f_del())\n",
    "q.deque(d.l_add())\n",
    "q.deque(d.l_add())\n",
    "q.deque(d.l_add())\n",
    "\n",
    "\n"
   ]
  }
 ],
 "metadata": {
  "kernelspec": {
   "display_name": "Python 3",
   "language": "python",
   "name": "python3"
  },
  "language_info": {
   "name": "python",
   "version": "3.11.1"
  },
  "orig_nbformat": 4,
  "vscode": {
   "interpreter": {
    "hash": "1d42a4fd88a2ab5ba2a93520124d60f637055456e509916308a043028a67e448"
   }
  }
 },
 "nbformat": 4,
 "nbformat_minor": 2
}
