{
 "cells": [
  {
   "cell_type": "code",
   "execution_count": 7,
   "metadata": {},
   "outputs": [
    {
     "name": "stdout",
     "output_type": "stream",
     "text": [
      "8.75\n"
     ]
    }
   ],
   "source": [
    "from typing import Callable\n",
    "op = '5 2 + 8 3 - * 4 /'\n",
    "dic:dict[str,Callable[[float,float],float]] = {\n",
    "    '+': lambda b,a: a+b,\n",
    "    '-': lambda b,a: a-b,\n",
    "    '*': lambda b,a: a*b,\n",
    "    '/': lambda b,a: a/b,\n",
    "}\n",
    "S = []\n",
    "for i in op.split(' '):\n",
    "    if i.isnumeric():\n",
    "        S.append(float(i))\n",
    "    else:\n",
    "        S.append(dic[i](S.pop(),S.pop()))\n",
    "\n",
    "print(S.pop())\n",
    "    "
   ]
  }
 ],
 "metadata": {
  "language_info": {
   "name": "python"
  },
  "orig_nbformat": 4
 },
 "nbformat": 4,
 "nbformat_minor": 2
}
