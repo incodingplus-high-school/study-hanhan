{
 "cells": [
  {
   "cell_type": "code",
   "execution_count": 35,
   "metadata": {},
   "outputs": [
    {
     "data": {
      "text/plain": [
       "[[2, 0], [2, 1], [1, 0], [1, 2], [0, 1], [0, 2]]"
      ]
     },
     "execution_count": 35,
     "metadata": {},
     "output_type": "execute_result"
    }
   ],
   "source": [
    "def nPr(n:int, r:int):\n",
    "    stack:list[list[int]] = [[]]\n",
    "    result:list[list[int]] = []\n",
    "    # stack[0], len(stack), stack.append(값), stack.pop()\n",
    "    \n",
    "    while True:\n",
    "        x = stack.pop()\n",
    "        for i in range(n):\n",
    "            if  i in x: continue\n",
    "            t = [*x,i]\n",
    "            if len(t) == r:\n",
    "                result.append(t)\n",
    "            else:\n",
    "                stack.append(t)\n",
    "        if len(stack) == 0:\n",
    "            return result\n",
    "nPr(3,2)"
   ]
  }
 ],
 "metadata": {
  "kernelspec": {
   "display_name": "Python 3",
   "language": "python",
   "name": "python3"
  },
  "language_info": {
   "codemirror_mode": {
    "name": "ipython",
    "version": 3
   },
   "file_extension": ".py",
   "mimetype": "text/x-python",
   "name": "python",
   "nbconvert_exporter": "python",
   "pygments_lexer": "ipython3",
   "version": "3.11.1"
  },
  "orig_nbformat": 4,
  "vscode": {
   "interpreter": {
    "hash": "1d42a4fd88a2ab5ba2a93520124d60f637055456e509916308a043028a67e448"
   }
  }
 },
 "nbformat": 4,
 "nbformat_minor": 2
}
