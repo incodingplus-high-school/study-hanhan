{
 "cells": [
  {
   "cell_type": "code",
   "execution_count": 1,
   "metadata": {},
   "outputs": [
    {
     "name": "stdout",
     "output_type": "stream",
     "text": [
      "[1, 2, 3] [6, 7, 8, 9, 4, 5] []\n"
     ]
    }
   ],
   "source": [
    "R = [1,2,3]\n",
    "S = [4,5]\n",
    "T = [6,7,8,9]\n",
    "\n",
    "def TtoS(R:list[int],S:list[int],T:list[int]):\n",
    "    q = len(T)\n",
    "    while len(T)>0:\n",
    "        x = T.pop()\n",
    "        R.append(x)\n",
    "    while len(S)>0:\n",
    "        y = S.pop()\n",
    "        T.append(y)\n",
    "    for i in range(q):\n",
    "        z = R.pop()\n",
    "        S.append(z)\n",
    "    while len(T)>0:\n",
    "        n = T.pop()\n",
    "        S.append(n)\n",
    "    print(R,S,T)\n",
    "TtoS(R,S,T)"
   ]
  }
 ],
 "metadata": {
  "kernelspec": {
   "display_name": "Python 3",
   "language": "python",
   "name": "python3"
  },
  "language_info": {
   "codemirror_mode": {
    "name": "ipython",
    "version": 3
   },
   "file_extension": ".py",
   "mimetype": "text/x-python",
   "name": "python",
   "nbconvert_exporter": "python",
   "pygments_lexer": "ipython3",
   "version": "3.11.1"
  },
  "orig_nbformat": 4
 },
 "nbformat": 4,
 "nbformat_minor": 2
}
