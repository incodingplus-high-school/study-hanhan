{
 "cells": [
  {
   "cell_type": "code",
   "execution_count": 1,
   "metadata": {},
   "outputs": [],
   "source": [
    "class Node:\n",
    "    val:int\n",
    "    pos:'Node'\n",
    "    par:'Node'\n",
    "    children:list['Node']\n",
    "    def __init__(self,val:int):\n",
    "        self.val = val\n",
    "        self.children = []\n",
    "    def element(self):\n",
    "        return self.pos\n",
    "class Tree:\n",
    "    _root_:'Node'\n",
    "    def root(self):\n",
    "        self._root_\n",
    "    def addChild(self,node:'Node'):\n",
    "        node.par =self\n",
    "        if node in self.children:\n",
    "            return False\n",
    "        if node.par:\n",
    "            ind = node.par.removeChild(node)\n",
    "        node.par = self\n",
    "        self.children.append(node)\n",
    "        return True\n",
    "    def removeChild(self,node:'Node'):\n",
    "        if node in self.children:\n",
    "            self.children.remove(node)\n",
    "            return True\n",
    "        return False\n",
    "\n",
    "\n",
    "t = Tree()\n",
    "t._root_ = Node(10)\n",
    "t._root_.children.append(Node(11))\n",
    "t._root_.children.append(Node(12))\n",
    "t._root_.children.append(Node(13))\n",
    "t._root_.children.append(Node(14))\n",
    "t._root_.children."
   ]
  }
 ],
 "metadata": {
  "kernelspec": {
   "display_name": "Python 3",
   "language": "python",
   "name": "python3"
  },
  "language_info": {
   "codemirror_mode": {
    "name": "ipython",
    "version": 3
   },
   "file_extension": ".py",
   "mimetype": "text/x-python",
   "name": "python",
   "nbconvert_exporter": "python",
   "pygments_lexer": "ipython3",
   "version": "3.11.1"
  },
  "orig_nbformat": 4
 },
 "nbformat": 4,
 "nbformat_minor": 2
}
