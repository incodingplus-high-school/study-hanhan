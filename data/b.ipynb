{
 "cells": [
  {
   "cell_type": "code",
   "execution_count": 2,
   "metadata": {},
   "outputs": [
    {
     "data": {
      "text/plain": [
       "17"
      ]
     },
     "execution_count": 2,
     "metadata": {},
     "output_type": "execute_result"
    }
   ],
   "source": [
    "d =[13530, 15701, 44365, 70626, 72965, 82325, 83736, 102838, 105809, 115286, 117347, 132886, 141733, 156452, 170419, 207050, 207271, 208061, 223479, 223607, 233894, 241420, 244973, 251468, 253980, 262039, 264552, 266491, 271918, 272746, 273837, 278567, 289519, 292335, 294007, 323415, 325770, 328498, 329835, 351154, 375718, 379169, 379517, 384023, 386737, 393936, 399889, 404020, 413165, 440478, 474539, 476342, 477691, 486732, 510758, 519611, 520605, 526407, 537207, 583164, 587375, 591474, 592005, 602605, 617334, 624820, 631939, 653488, 659475, 661947, 666065, 676431, 688647, 694766, 715707, 733161, 736103, 738332, 743215, 754714, 757584, 760949, 768290, 769890, 784641, 820338, 821217, 867638, 886925, 898265, 902743, 932196, 939076, 939272, 943086, 969432, 970178, 971070, 988756, 997971]\n",
    "d = sorted(d)\n",
    "def BinarySearch(data:list[int],target:int,low:int,high:int):\n",
    "    mid = (low+high) // 2\n",
    "    if target == data[mid]:\n",
    "        return mid\n",
    "    elif target < data[mid]:\n",
    "        return BinarySearch(data,target,low,mid-1)\n",
    "    else:\n",
    "        return BinarySearch(data,target,mid+1,high)\n",
    "BinarySearch(d,208061, 0, len(d) - 1)"
   ]
  }
 ],
 "metadata": {
  "kernelspec": {
   "display_name": "Python 3",
   "language": "python",
   "name": "python3"
  },
  "language_info": {
   "codemirror_mode": {
    "name": "ipython",
    "version": 3
   },
   "file_extension": ".py",
   "mimetype": "text/x-python",
   "name": "python",
   "nbconvert_exporter": "python",
   "pygments_lexer": "ipython3",
   "version": "3.11.1"
  },
  "orig_nbformat": 4,
  "vscode": {
   "interpreter": {
    "hash": "1d42a4fd88a2ab5ba2a93520124d60f637055456e509916308a043028a67e448"
   }
  }
 },
 "nbformat": 4,
 "nbformat_minor": 2
}
