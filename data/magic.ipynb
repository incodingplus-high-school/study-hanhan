{
 "cells": [
  {
   "attachments": {},
   "cell_type": "markdown",
   "metadata": {},
   "source": [
    "# 매직 메소드\n",
    "\n",
    "```python\n",
    "# 인스턴스 호출시 사용 함수\n",
    "def __init__\n",
    "\n",
    "# 덧셈\n",
    "def __add__\n",
    "\n",
    "# len 함수 출력시\n",
    "def __len__\n",
    "\n",
    "# == 썼을 때\n",
    "def __eq__\n",
    "```"
   ]
  },
  {
   "cell_type": "code",
   "execution_count": 12,
   "metadata": {},
   "outputs": [
    {
     "name": "stdout",
     "output_type": "stream",
     "text": [
      "3.605551275463989\n"
     ]
    }
   ],
   "source": [
    "class Pos:\n",
    "    x:int = 0\n",
    "    y:int = 0\n",
    "    def __init__(self, x:int, y:int) -> None:\n",
    "        self.x = x\n",
    "        self.y = y\n",
    "\n",
    "    #float\n",
    "    # * pos2int \n",
    "    def __abs__(self) -> float:\n",
    "        return (self.x**2+self.y**2)**0.5\n",
    "    \n",
    "    def __add__(self,other:'Pos') -> 'Pos':\n",
    "        pos3 = Pos(self.x + other.x,self.y + other.y)\n",
    "        return pos3\n",
    "    \n",
    "    def __sub__(self,other:'Pos') -> 'Pos':\n",
    "        pos3 = Pos(self.x - other.x,self.y - other.y)\n",
    "        return pos3\n",
    "\n",
    "    def __mul__(self,other:'Pos') -> int:\n",
    "        return self.x * other.x + self.y * other.y\n",
    "\n",
    "    def __str__(self) -> str:\n",
    "        return f'({self.x}, {self.y})'\n",
    "# pos1 : instance\n",
    "# Pos : class\n",
    "pos1 = Pos(7,5)\n",
    "pos2 = Pos(2,3)\n",
    "print(abs(pos2))\n"
   ]
  },
  {
   "cell_type": "code",
   "execution_count": null,
   "metadata": {},
   "outputs": [],
   "source": []
  }
 ],
 "metadata": {
  "kernelspec": {
   "display_name": "Python 3",
   "language": "python",
   "name": "python3"
  },
  "language_info": {
   "codemirror_mode": {
    "name": "ipython",
    "version": 3
   },
   "file_extension": ".py",
   "mimetype": "text/x-python",
   "name": "python",
   "nbconvert_exporter": "python",
   "pygments_lexer": "ipython3",
   "version": "3.11.1"
  },
  "orig_nbformat": 4,
  "vscode": {
   "interpreter": {
    "hash": "1d42a4fd88a2ab5ba2a93520124d60f637055456e509916308a043028a67e448"
   }
  }
 },
 "nbformat": 4,
 "nbformat_minor": 2
}
