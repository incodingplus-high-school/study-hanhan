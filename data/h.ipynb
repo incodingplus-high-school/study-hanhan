{
 "cells": [
  {
   "cell_type": "code",
   "execution_count": 2,
   "metadata": {},
   "outputs": [
    {
     "name": "stdout",
     "output_type": "stream",
     "text": [
      "1번 원반을 a에서 b로 이동\n",
      "2번 원반을 a에서 c로 이동\n",
      "1번 원반을 b에서 c로 이동\n",
      "3번 원반을 a에서 b로 이동\n",
      "1번 원반을 c에서 a로 이동\n",
      "2번 원반을 c에서 b로 이동\n",
      "1번 원반을 a에서 b로 이동\n"
     ]
    }
   ],
   "source": [
    "def hanoi(place,a,c,b):\n",
    "    if place == 1:\n",
    "        print(f'1번 원반을 {a}에서 {c}로 이동')\n",
    "    else:\n",
    "        hanoi(place-1,a,b,c)\n",
    "        print(f'{place}번 원반을 {a}에서 {c}로 이동')\n",
    "        hanoi(place-1,b,c,a)\n",
    "hanoi(3,'a','b','c')"
   ]
  }
 ],
 "metadata": {
  "kernelspec": {
   "display_name": "Python 3",
   "language": "python",
   "name": "python3"
  },
  "language_info": {
   "codemirror_mode": {
    "name": "ipython",
    "version": 3
   },
   "file_extension": ".py",
   "mimetype": "text/x-python",
   "name": "python",
   "nbconvert_exporter": "python",
   "pygments_lexer": "ipython3",
   "version": "3.11.1"
  },
  "orig_nbformat": 4,
  "vscode": {
   "interpreter": {
    "hash": "1d42a4fd88a2ab5ba2a93520124d60f637055456e509916308a043028a67e448"
   }
  }
 },
 "nbformat": 4,
 "nbformat_minor": 2
}
