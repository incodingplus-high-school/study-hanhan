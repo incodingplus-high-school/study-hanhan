{
 "cells": [
  {
   "attachments": {},
   "cell_type": "markdown",
   "metadata": {},
   "source": [
    "# 콜라츠 추측 변형\n",
    "- `n`(자연수)에 대해\n",
    "  - `n`의 초기값이 짝수인 경우 맨 처음에만 `n`에 3을 곱하고 1을 더한다\n",
    "  - `n`이 짝수인 경우, `n`을 2로 나눈다\n",
    "  - `n`이 홀수인 경우, `n`에 3을 곱해 1을 더한다"
   ]
  },
  {
   "cell_type": "code",
   "execution_count": 15,
   "metadata": {},
   "outputs": [
    {
     "name": "stdout",
     "output_type": "stream",
     "text": [
      "1\n"
     ]
    }
   ],
   "source": [
    "b = 0\n",
    "for n in range(2,10000,2):\n",
    "    v = n\n",
    "    a = 0\n",
    "    while n != 1:\n",
    "        if n == v:\n",
    "            b+=1\n",
    "            break\n",
    "        if a > 100:\n",
    "            b+=1\n",
    "            break\n",
    "        if n%2==0:\n",
    "            n = n / 2\n",
    "\n",
    "        elif n%2==1:    \n",
    "            n = n * 3 +1\n",
    "        a += 1\n",
    "\n",
    "print(5000-b)"
   ]
  },
  {
   "cell_type": "code",
   "execution_count": 13,
   "metadata": {},
   "outputs": [
    {
     "name": "stdout",
     "output_type": "stream",
     "text": [
      "0\n"
     ]
    }
   ],
   "source": [
    "b = 0\n",
    "n = 6\n",
    "a = 0\n",
    "while n != 1:\n",
    "    if a > 100:\n",
    "        b+=1\n",
    "        break\n",
    "    if n%2==0:\n",
    "        n = n / 2\n",
    "\n",
    "    elif n%2==1:\n",
    "        n = n * 3 +1\n",
    "    a += 1\n",
    "print(b)"
   ]
  }
 ],
 "metadata": {
  "kernelspec": {
   "display_name": "Python 3",
   "language": "python",
   "name": "python3"
  },
  "language_info": {
   "codemirror_mode": {
    "name": "ipython",
    "version": 3
   },
   "file_extension": ".py",
   "mimetype": "text/x-python",
   "name": "python",
   "nbconvert_exporter": "python",
   "pygments_lexer": "ipython3",
   "version": "3.11.1 (tags/v3.11.1:a7a450f, Dec  6 2022, 19:58:39) [MSC v.1934 64 bit (AMD64)]"
  },
  "orig_nbformat": 4,
  "vscode": {
   "interpreter": {
    "hash": "1d42a4fd88a2ab5ba2a93520124d60f637055456e509916308a043028a67e448"
   }
  }
 },
 "nbformat": 4,
 "nbformat_minor": 2
}
