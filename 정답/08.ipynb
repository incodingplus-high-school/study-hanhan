{
 "cells": [
  {
   "attachments": {},
   "cell_type": "markdown",
   "metadata": {},
   "source": [
    "# 로봇 청소기 이동\n",
    "\n"
   ]
  },
  {
   "cell_type": "code",
   "execution_count": 3,
   "metadata": {},
   "outputs": [
    {
     "name": "stdout",
     "output_type": "stream",
     "text": [
      "324932\n"
     ]
    }
   ],
   "source": [
    "way = [\n",
    "    (1, 0), (-1, 0), (0, 1), (0, -1)\n",
    "]\n",
    "result = []\n",
    "def moveAll(axis:list[tuple[int, int]] = [(0, 0)]):\n",
    "    if len(axis) == 13:\n",
    "        result.append(axis)\n",
    "        return\n",
    "    for i in way:\n",
    "        last = axis[-1]\n",
    "        pos = (last[0] + i[0], last[1] + i[1])\n",
    "        if pos not in axis:\n",
    "            arr = axis[:]\n",
    "            arr.append(pos)\n",
    "            moveAll(arr)\n",
    "moveAll()\n",
    "print(len(result))"
   ]
  },
  {
   "cell_type": "code",
   "execution_count": null,
   "metadata": {},
   "outputs": [],
   "source": []
  }
 ],
 "metadata": {
  "kernelspec": {
   "display_name": "Python 3",
   "language": "python",
   "name": "python3"
  },
  "language_info": {
   "codemirror_mode": {
    "name": "ipython",
    "version": 3
   },
   "file_extension": ".py",
   "mimetype": "text/x-python",
   "name": "python",
   "nbconvert_exporter": "python",
   "pygments_lexer": "ipython3",
   "version": "3.11.1"
  },
  "orig_nbformat": 4,
  "vscode": {
   "interpreter": {
    "hash": "1d42a4fd88a2ab5ba2a93520124d60f637055456e509916308a043028a67e448"
   }
  }
 },
 "nbformat": 4,
 "nbformat_minor": 2
}
