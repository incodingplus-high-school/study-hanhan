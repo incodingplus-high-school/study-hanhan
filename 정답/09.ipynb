{
 "cells": [
  {
   "attachments": {},
   "cell_type": "markdown",
   "metadata": {},
   "source": [
    "# 09 남녀 불균형\n",
    "\n",
    "- 남자 m명, 여자 f명이 있을때, 어디에서 끊더라도 두 그룹의 남자, 여자의 수가 다른 도착순서의 개수를 구하시오"
   ]
  },
  {
   "cell_type": "code",
   "execution_count": 6,
   "metadata": {},
   "outputs": [],
   "source": [
    "m = 20\n",
    "f = 10\n",
    "m_list = [0 for i in range(1,m+1)]\n",
    "\n",
    "group\n"
   ]
  }
 ],
 "metadata": {
  "kernelspec": {
   "display_name": "Python 3",
   "language": "python",
   "name": "python3"
  },
  "language_info": {
   "codemirror_mode": {
    "name": "ipython",
    "version": 3
   },
   "file_extension": ".py",
   "mimetype": "text/x-python",
   "name": "python",
   "nbconvert_exporter": "python",
   "pygments_lexer": "ipython3",
   "version": "3.11.1"
  },
  "orig_nbformat": 4,
  "vscode": {
   "interpreter": {
    "hash": "1d42a4fd88a2ab5ba2a93520124d60f637055456e509916308a043028a67e448"
   }
  }
 },
 "nbformat": 4,
 "nbformat_minor": 2
}
