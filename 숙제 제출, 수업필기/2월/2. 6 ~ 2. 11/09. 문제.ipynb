{
 "cells": [
  {
   "cell_type": "code",
   "execution_count": 154,
   "metadata": {},
   "outputs": [
    {
     "ename": "KeyboardInterrupt",
     "evalue": "",
     "output_type": "error",
     "traceback": [
      "\u001b[1;31m---------------------------------------------------------------------------\u001b[0m",
      "\u001b[1;31mKeyboardInterrupt\u001b[0m                         Traceback (most recent call last)",
      "Cell \u001b[1;32mIn[154], line 40\u001b[0m\n\u001b[0;32m     38\u001b[0m                 chosen\u001b[39m.\u001b[39mpop()\n\u001b[0;32m     39\u001b[0m     generate([], used)\n\u001b[1;32m---> 40\u001b[0m permutation(\u001b[39m'\u001b[39;49m\u001b[39m남남남남남남남남남남남남남남남남남남남남여여여여여여여여여여\u001b[39;49m\u001b[39m'\u001b[39;49m)\n\u001b[0;32m     42\u001b[0m \u001b[39mprint\u001b[39m(\u001b[39mf\u001b[39m\u001b[39m\"\u001b[39m\u001b[39m{\u001b[39;00mend\u001b[39m \u001b[39m\u001b[39m-\u001b[39m\u001b[39m \u001b[39mstart\u001b[39m:\u001b[39;00m\u001b[39m.5f\u001b[39m\u001b[39m}\u001b[39;00m\u001b[39m sec\u001b[39m\u001b[39m\"\u001b[39m)\n\u001b[0;32m     43\u001b[0m \u001b[39mprint\u001b[39m(d)\n",
      "Cell \u001b[1;32mIn[154], line 39\u001b[0m, in \u001b[0;36mpermutation\u001b[1;34m(arr)\u001b[0m\n\u001b[0;32m     37\u001b[0m             used[i] \u001b[39m=\u001b[39m \u001b[39m0\u001b[39m\n\u001b[0;32m     38\u001b[0m             chosen\u001b[39m.\u001b[39mpop()\n\u001b[1;32m---> 39\u001b[0m generate([], used)\n",
      "Cell \u001b[1;32mIn[154], line 36\u001b[0m, in \u001b[0;36mpermutation.<locals>.generate\u001b[1;34m(chosen, used)\u001b[0m\n\u001b[0;32m     34\u001b[0m chosen\u001b[39m.\u001b[39mappend(arr[i])\n\u001b[0;32m     35\u001b[0m used[i] \u001b[39m=\u001b[39m \u001b[39m1\u001b[39m\n\u001b[1;32m---> 36\u001b[0m generate(chosen, used)\n\u001b[0;32m     37\u001b[0m used[i] \u001b[39m=\u001b[39m \u001b[39m0\u001b[39m\n\u001b[0;32m     38\u001b[0m chosen\u001b[39m.\u001b[39mpop()\n",
      "Cell \u001b[1;32mIn[154], line 36\u001b[0m, in \u001b[0;36mpermutation.<locals>.generate\u001b[1;34m(chosen, used)\u001b[0m\n\u001b[0;32m     34\u001b[0m chosen\u001b[39m.\u001b[39mappend(arr[i])\n\u001b[0;32m     35\u001b[0m used[i] \u001b[39m=\u001b[39m \u001b[39m1\u001b[39m\n\u001b[1;32m---> 36\u001b[0m generate(chosen, used)\n\u001b[0;32m     37\u001b[0m used[i] \u001b[39m=\u001b[39m \u001b[39m0\u001b[39m\n\u001b[0;32m     38\u001b[0m chosen\u001b[39m.\u001b[39mpop()\n",
      "    \u001b[1;31m[... skipping similar frames: permutation.<locals>.generate at line 36 (27 times)]\u001b[0m\n",
      "Cell \u001b[1;32mIn[154], line 36\u001b[0m, in \u001b[0;36mpermutation.<locals>.generate\u001b[1;34m(chosen, used)\u001b[0m\n\u001b[0;32m     34\u001b[0m chosen\u001b[39m.\u001b[39mappend(arr[i])\n\u001b[0;32m     35\u001b[0m used[i] \u001b[39m=\u001b[39m \u001b[39m1\u001b[39m\n\u001b[1;32m---> 36\u001b[0m generate(chosen, used)\n\u001b[0;32m     37\u001b[0m used[i] \u001b[39m=\u001b[39m \u001b[39m0\u001b[39m\n\u001b[0;32m     38\u001b[0m chosen\u001b[39m.\u001b[39mpop()\n",
      "Cell \u001b[1;32mIn[154], line 21\u001b[0m, in \u001b[0;36mpermutation.<locals>.generate\u001b[1;34m(chosen, used)\u001b[0m\n\u001b[0;32m     19\u001b[0m \u001b[39mif\u001b[39;00m \u001b[39mlen\u001b[39m(chosen) \u001b[39m==\u001b[39m \u001b[39mlen\u001b[39m(arr):\n\u001b[0;32m     20\u001b[0m     \u001b[39mfor\u001b[39;00m i \u001b[39min\u001b[39;00m \u001b[39mrange\u001b[39m(\u001b[39m1\u001b[39m, \u001b[39mlen\u001b[39m(chosen) \u001b[39m+\u001b[39m \u001b[39m1\u001b[39m):\n\u001b[1;32m---> 21\u001b[0m         \u001b[39mstr\u001b[39m \u001b[39m=\u001b[39m Counter(chosen[:i])\n\u001b[0;32m     22\u001b[0m         aud \u001b[39m=\u001b[39m Counter(chosen[i:])\n\u001b[0;32m     23\u001b[0m         \u001b[39mif\u001b[39;00m(\u001b[39mlen\u001b[39m(\u001b[39mlist\u001b[39m(\u001b[39mstr\u001b[39m\u001b[39m.\u001b[39mkeys())) \u001b[39m>\u001b[39m \u001b[39m1\u001b[39m \u001b[39mand\u001b[39;00m \u001b[39mlen\u001b[39m(\u001b[39mlist\u001b[39m(aud\u001b[39m.\u001b[39mkeys())) \u001b[39m>\u001b[39m \u001b[39m1\u001b[39m):\n",
      "File \u001b[1;32mc:\\Users\\lim16\\AppData\\Local\\Programs\\Python\\Python311\\Lib\\collections\\__init__.py:597\u001b[0m, in \u001b[0;36mCounter.__init__\u001b[1;34m(self, iterable, **kwds)\u001b[0m\n\u001b[0;32m    586\u001b[0m \u001b[39m\u001b[39m\u001b[39m'''Create a new, empty Counter object.  And if given, count elements\u001b[39;00m\n\u001b[0;32m    587\u001b[0m \u001b[39mfrom an input iterable.  Or, initialize the count from another mapping\u001b[39;00m\n\u001b[0;32m    588\u001b[0m \u001b[39mof elements to their counts.\u001b[39;00m\n\u001b[1;32m   (...)\u001b[0m\n\u001b[0;32m    594\u001b[0m \n\u001b[0;32m    595\u001b[0m \u001b[39m'''\u001b[39;00m\n\u001b[0;32m    596\u001b[0m \u001b[39msuper\u001b[39m()\u001b[39m.\u001b[39m\u001b[39m__init__\u001b[39m()\n\u001b[1;32m--> 597\u001b[0m \u001b[39mself\u001b[39;49m\u001b[39m.\u001b[39;49mupdate(iterable, \u001b[39m*\u001b[39;49m\u001b[39m*\u001b[39;49mkwds)\n",
      "File \u001b[1;32mc:\\Users\\lim16\\AppData\\Local\\Programs\\Python\\Python311\\Lib\\collections\\__init__.py:658\u001b[0m, in \u001b[0;36mCounter.update\u001b[1;34m(self, iterable, **kwds)\u001b[0m\n\u001b[0;32m    646\u001b[0m \u001b[39m@classmethod\u001b[39m\n\u001b[0;32m    647\u001b[0m \u001b[39mdef\u001b[39;00m \u001b[39mfromkeys\u001b[39m(\u001b[39mcls\u001b[39m, iterable, v\u001b[39m=\u001b[39m\u001b[39mNone\u001b[39;00m):\n\u001b[0;32m    648\u001b[0m     \u001b[39m# There is no equivalent method for counters because the semantics\u001b[39;00m\n\u001b[1;32m   (...)\u001b[0m\n\u001b[0;32m    653\u001b[0m     \u001b[39m# more exotic cases, create a dictionary first using a dictionary\u001b[39;00m\n\u001b[0;32m    654\u001b[0m     \u001b[39m# comprehension or dict.fromkeys().\u001b[39;00m\n\u001b[0;32m    655\u001b[0m     \u001b[39mraise\u001b[39;00m \u001b[39mNotImplementedError\u001b[39;00m(\n\u001b[0;32m    656\u001b[0m         \u001b[39m'\u001b[39m\u001b[39mCounter.fromkeys() is undefined.  Use Counter(iterable) instead.\u001b[39m\u001b[39m'\u001b[39m)\n\u001b[1;32m--> 658\u001b[0m \u001b[39mdef\u001b[39;00m \u001b[39mupdate\u001b[39m(\u001b[39mself\u001b[39m, iterable\u001b[39m=\u001b[39m\u001b[39mNone\u001b[39;00m, \u001b[39m/\u001b[39m, \u001b[39m*\u001b[39m\u001b[39m*\u001b[39mkwds):\n\u001b[0;32m    659\u001b[0m \u001b[39m    \u001b[39m\u001b[39m'''Like dict.update() but add counts instead of replacing them.\u001b[39;00m\n\u001b[0;32m    660\u001b[0m \n\u001b[0;32m    661\u001b[0m \u001b[39m    Source can be an iterable, a dictionary, or another Counter instance.\u001b[39;00m\n\u001b[1;32m   (...)\u001b[0m\n\u001b[0;32m    669\u001b[0m \n\u001b[0;32m    670\u001b[0m \u001b[39m    '''\u001b[39;00m\n\u001b[0;32m    671\u001b[0m     \u001b[39m# The regular dict.update() operation makes no sense here because the\u001b[39;00m\n\u001b[0;32m    672\u001b[0m     \u001b[39m# replace behavior results in the some of original untouched counts\u001b[39;00m\n\u001b[0;32m    673\u001b[0m     \u001b[39m# being mixed-in with all of the other counts for a mismash that\u001b[39;00m\n\u001b[0;32m    674\u001b[0m     \u001b[39m# doesn't have a straight-forward interpretation in most counting\u001b[39;00m\n\u001b[0;32m    675\u001b[0m     \u001b[39m# contexts.  Instead, we implement straight-addition.  Both the inputs\u001b[39;00m\n\u001b[0;32m    676\u001b[0m     \u001b[39m# and outputs are allowed to contain zero and negative counts.\u001b[39;00m\n",
      "\u001b[1;31mKeyboardInterrupt\u001b[0m: "
     ]
    }
   ],
   "source": [
    "from collections import Counter\n",
    "\n",
    "import math\n",
    "import time\n",
    "\n",
    "start = time.time()\n",
    "math.factorial(100000)\n",
    "end = time.time()\n",
    "\n",
    "d = 0\n",
    "\n",
    "def permutation(arr):\n",
    "    arr = sorted(arr) # sorted AABC -> ['A', 'A', 'B', 'C']\n",
    "    used = [0 for i in range(len(arr))]\n",
    "\n",
    "    def generate(chosen:list, used):\n",
    "        global d\n",
    "        # 2.\n",
    "        if len(chosen) == len(arr):\n",
    "            for i in range(1, len(chosen) + 1):\n",
    "                str = Counter(chosen[:i])\n",
    "                aud = Counter(chosen[i:])\n",
    "                if(len(list(str.keys())) > 1 and len(list(aud.keys())) > 1):\n",
    "                    if(str[list(str.keys())[0]] != str[list(str.keys())[1]] and aud[list(aud.keys())[0]] != aud[list(aud.keys())[1]]):\n",
    "                        # print(chosen, chosen[:i], chosen[i:])\n",
    "                        d = d + 1\n",
    "                else:\n",
    "                    d = d + 1\n",
    "            return\n",
    "\t\n",
    "        for i in range(len(arr)):\n",
    "\t    # 3.\n",
    "            if not used[i] and (i == 0 or arr[i-1] != arr[i] or used[i-1]):\n",
    "                chosen.append(arr[i])\n",
    "                used[i] = 1\n",
    "                generate(chosen, used)\n",
    "                used[i] = 0\n",
    "                chosen.pop()\n",
    "    generate([], used)\n",
    "permutation('남남남남남남남남남남남남남남남남남남남남여여여여여여여여여여')\n",
    "\n",
    "print(f\"{end - start:.5f} sec\")\n",
    "print(d)\n",
    "\n",
    "\n"
   ]
  },
  {
   "cell_type": "code",
   "execution_count": null,
   "metadata": {},
   "outputs": [],
   "source": []
  }
 ],
 "metadata": {
  "kernelspec": {
   "display_name": "Python 3",
   "language": "python",
   "name": "python3"
  },
  "language_info": {
   "codemirror_mode": {
    "name": "ipython",
    "version": 3
   },
   "file_extension": ".py",
   "mimetype": "text/x-python",
   "name": "python",
   "nbconvert_exporter": "python",
   "pygments_lexer": "ipython3",
   "version": "3.11.1"
  },
  "orig_nbformat": 4,
  "vscode": {
   "interpreter": {
    "hash": "4e99742b0211a168e899a542aeb7ebc885ad0cf702d76a1dcf543780c1c33967"
   }
  }
 },
 "nbformat": 4,
 "nbformat_minor": 2
}
