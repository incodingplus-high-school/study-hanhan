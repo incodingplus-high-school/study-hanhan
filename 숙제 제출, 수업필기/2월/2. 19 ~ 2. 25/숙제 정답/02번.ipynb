{
 "cells": [
  {
   "attachments": {},
   "cell_type": "markdown",
   "metadata": {},
   "source": [
    "2. 다음 클래스를 만드시오.\n",
    "   1. `PersonInfo` 클래스를 만들 것\n",
    "   2. `name`, `birth`, `gender`\n",
    "   3. `birth`의 형식은 `1994-08-03` 이런식의 문자열\n",
    "   4. `gender`는 `True`, `False` 로 (`True`면 남자, `False`면 여자)\n",
    "   5. `print` 하면 `이름은 김한결, 1994년 8월 3일생 남자입니다.` 이런식으로 출력할 것\n",
    "   6. `abs` 를 실행할 경우 현재까지 살아온 일수가 나올 것\n",
    "   7. `>=`, `<=`, `>`, `<`, 등의 논리는 살아온 일수로 계산할 것\n",
    "   8. `==`과 `!=`는 `name`, `birth`, `gender`가 모두 같은 경우로 계산할 것"
   ]
  },
  {
   "cell_type": "code",
   "execution_count": 75,
   "metadata": {},
   "outputs": [
    {
     "name": "stdout",
     "output_type": "stream",
     "text": [
      "True\n"
     ]
    }
   ],
   "source": [
    "from datetime import datetime\n",
    "\n",
    "class PersonInfo():\n",
    "    name:str = ''\n",
    "    birth:str = ''\n",
    "    gender:str = ''\n",
    "\n",
    "    days:int = 0\n",
    "\n",
    "    def __init__(self, name:str, birth:str, gender:bool) -> None:\n",
    "        self.name = name\n",
    "        self.birth = birth\n",
    "        self.days = (datetime.now() - datetime.strptime(self.birth, '%Y-%m-%d')).days\n",
    "\n",
    "        if gender:\n",
    "            self.gender = '남자'\n",
    "        else:\n",
    "            self.gender = '여자'\n",
    "\n",
    "    def __str__(self) -> str:\n",
    "        date = datetime.strptime(self.birth, '%Y-%m-%d')\n",
    "        return f\"이름은 {self.name}, {date.year}년 {date.month}월 {date.day}일생 {self.gender}입니다.\"\n",
    "\n",
    "    def __abs__(self) -> int:\n",
    "        return f\"{((datetime.now() - datetime.strptime(self.birth, '%Y-%m-%d')).days)}일\"\n",
    "\n",
    "    def __lt__(self, other: 'PersonInfo') -> bool: # <\n",
    "        if self.days < other.days: return True\n",
    "        else: return False\n",
    "    def __le__(self, other: 'PersonInfo') -> bool: # <=\n",
    "        if self.days <= other.days: return True\n",
    "        else:return False\n",
    "    def __gt__(self, other: 'PersonInfo') -> bool: # >\n",
    "        if self.days > other.days: return True\n",
    "        else: return False\n",
    "    def __ge__(self, other: 'PersonInfo') -> bool: # >=\n",
    "        if self.days >= other.days: return True\n",
    "        else: return False\n",
    "\n",
    "    def __eq__(self, other: 'PersonInfo') -> bool: # ==\n",
    "        if self.name == other.name and self.birth == other.birth and self.gender == other.gender:return True\n",
    "        else: return False\n",
    "    def __ne__(self, other: 'PersonInfo') -> bool: # !=\n",
    "        if self.name != other.name or self.birth != other.birth or self.gender != other.gender:return True\n",
    "        else: return False\n",
    "\n",
    "per = PersonInfo('임지수', '2006-02-03', True)\n",
    "per2 = PersonInfo('임지수', '2006-02-03', True)\n",
    "print(per <= per2)"
   ]
  }
 ],
 "metadata": {
  "kernelspec": {
   "display_name": "Python 3",
   "language": "python",
   "name": "python3"
  },
  "language_info": {
   "codemirror_mode": {
    "name": "ipython",
    "version": 3
   },
   "file_extension": ".py",
   "mimetype": "text/x-python",
   "name": "python",
   "nbconvert_exporter": "python",
   "pygments_lexer": "ipython3",
   "version": "3.11.1"
  },
  "orig_nbformat": 4,
  "vscode": {
   "interpreter": {
    "hash": "4e99742b0211a168e899a542aeb7ebc885ad0cf702d76a1dcf543780c1c33967"
   }
  }
 },
 "nbformat": 4,
 "nbformat_minor": 2
}
