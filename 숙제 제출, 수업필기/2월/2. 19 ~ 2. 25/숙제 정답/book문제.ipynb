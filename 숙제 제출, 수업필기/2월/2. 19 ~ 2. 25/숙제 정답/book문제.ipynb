{
 "cells": [
  {
   "attachments": {},
   "cell_type": "markdown",
   "metadata": {},
   "source": [
    "C-4.9 Write a short recursive Python function that finds the minimum and max-imum values in a sequence without using any loops.\n",
    "\n",
    "- 반복문을 쓰지 말고 시퀀스의 최대값과 최소 값을 짧은 파이썬 함수로 써라\n",
    "\n",
    "시퀀스? -> 파이썬에서 데이터를 순서대로 나열한 것을 의미함, 시퀀스는 문자열(String), 리스트(List), 튜플(Tuple) 등\n",
    "\n",
    "- 어케 하는지 모르겠음 일단 했음??"
   ]
  },
  {
   "cell_type": "code",
   "execution_count": 176,
   "metadata": {},
   "outputs": [
    {
     "name": "stdout",
     "output_type": "stream",
     "text": [
      "1 [3]\n",
      "3 3\n",
      "3 2\n"
     ]
    },
    {
     "data": {
      "text/plain": [
       "(11, 2)"
      ]
     },
     "execution_count": 176,
     "metadata": {},
     "output_type": "execute_result"
    }
   ],
   "source": [
    "def find_max_min(lst):\n",
    "    if len(lst) == 1:\n",
    "        return lst[0], lst[0]\n",
    "    else:\n",
    "        max_val, min_val = find_max_min(lst[1:])\n",
    "        print(max_val, min_val)\n",
    "        if lst[0] > max_val: max_val = lst[0]\n",
    "        if lst[0] < min_val:min_val = lst[0]\n",
    "        return max_val, min_val\n",
    "    \n",
    "find_max_min([11, 2, 3])"
   ]
  },
  {
   "attachments": {},
   "cell_type": "markdown",
   "metadata": {},
   "source": [
    "C-4.12 Give a recursive algorithm to compute the product of two positive integers,\n",
    "m and n, using only addition and subtraction.\n",
    "\n",
    "- m, n 의 곱을 재귀함수로 덧셈 뺄셈만 사용해서 하셈.."
   ]
  },
  {
   "cell_type": "code",
   "execution_count": 2,
   "metadata": {},
   "outputs": [
    {
     "data": {
      "text/plain": [
       "6"
      ]
     },
     "execution_count": 2,
     "metadata": {},
     "output_type": "execute_result"
    }
   ],
   "source": [
    "def m_add(m, n):\n",
    "    if n == 1 : return m\n",
    "    else: return m + m_add(m, n - 1)\n",
    "    \n",
    "m_add(3, 2)"
   ]
  },
  {
   "attachments": {},
   "cell_type": "markdown",
   "metadata": {},
   "source": [
    "C-4.18 Use recursion to write a Python function for determining if a string s has\n",
    "more vowels than consonants.\n",
    "\n",
    "- C-4.18 재귀를 사용하여 문자열에 자음보다 모음이 더 많은지 확인하는 Python 함수를 작성하셈"
   ]
  },
  {
   "cell_type": "code",
   "execution_count": 36,
   "metadata": {},
   "outputs": [
    {
     "name": "stdout",
     "output_type": "stream",
     "text": [
      "모음과 자음의 수가 같습니다. \n",
      " 모음: 5, 자음: 5\n"
     ]
    }
   ],
   "source": [
    "def check_vow_con(eng:str, a:int, b:int, n:int, n2:int):\n",
    "    if len(eng) == n:\n",
    "        if a > b: return print(f\"모음이 더 많습니다. \\n 모음: {a}, 자음: {b}\")\n",
    "        elif a < b: return print(f\"자음이 더 많습니다. \\n 모음: {a}, 자음: {b}\")\n",
    "        else: return print(f\"모음과 자음의 수가 같습니다. \\n 모음: {a}, 자음: {b}\")\n",
    "    else:\n",
    "        if eng[n:n2] in ['a', 'e', 'i', 'o', 'u', 'A', 'E', 'I', 'O', 'U']: check_vow_con(eng, a + 1, b, n + 1, n2 + 1)\n",
    "        elif 65 <= ord(eng[n:n2]) <= 90 or 97 <= ord(eng[n:n2]) <= 122: check_vow_con(eng, a, b + 1, n + 1, n2 + 1)\n",
    "        else: check_vow_con(eng, a, b, n + 1, n2 + 1)\n",
    "check_vow_con('aexiozIxzz', 0, 0, 0, 1)"
   ]
  },
  {
   "attachments": {},
   "cell_type": "markdown",
   "metadata": {},
   "source": [
    "C-4.13 In Section 4.2 we prove by induction that the number of lines printed by\n",
    "a call to draw interval(c) is 2c − 1. Another interesting question is how\n",
    "many dashes are printed during that process. Prove by induction that the\n",
    "number of dashes printed by draw interval(c) is 2c+1 −c−2."
   ]
  },
  {
   "attachments": {},
   "cell_type": "markdown",
   "metadata": {},
   "source": [
    "C-4.14 In the Towers of Hanoi puzzle, we are given a platform with three pegs, a,\n",
    "b, and c, sticking out of it. On peg a is a stack of n disks, each larger than\n",
    "the next, so that the smallest is on the top and the largest is on the bottom.\n",
    "The puzzle is to move all the disks from peg a to peg c, moving one disk\n",
    "at a time, so that we never place a larger disk on top of a smaller one.\n",
    "See Figure 4.15 for an example of the case n = 4. Describe a recursive\n",
    "algorithm for solving the Towers of Hanoi puzzle for arbitrary n. (Hint:\n",
    "Consider first the subproblem of moving all but the nth disk from peg a to\n",
    "another peg using the third as “temporary storage.”)\n",
    "Figure 4.15: An illustration of the Towers of Hanoi puzzle.\n",
    "\n",
    "- 한번에 한개의 디스크를 움직일 수 있음.\n",
    "- 더 작은 디스크 위에 더큰 디스크를 놓지 않는다.\n",
    "- 디스크는 4개"
   ]
  },
  {
   "cell_type": "code",
   "execution_count": 2,
   "metadata": {},
   "outputs": [
    {
     "name": "stdout",
     "output_type": "stream",
     "text": [
      "a -> b\n",
      "a -> c\n",
      "b -> c\n",
      "a -> b\n",
      "c -> a\n",
      "c -> b\n",
      "a -> b\n",
      "a -> c\n",
      "b -> c\n",
      "b -> a\n",
      "c -> a\n",
      "b -> c\n",
      "a -> b\n",
      "a -> c\n",
      "b -> c\n"
     ]
    }
   ],
   "source": [
    "def hanoi(rings, a, c, b): # 링수, 시작점, 목표, 보조기둥\n",
    "    if rings == 1:\n",
    "        print(a, '->', c) # 시작점 에서 목표 기둥으로\n",
    "        return\n",
    "    hanoi(rings - 1, a, b, c) # 링 2개로, 시작에서 보조기둥으로 이동, 목표를 보조 기둥으로 사용함\n",
    "    print(a, '->', c) # 중간에 나머지 링이 모였을떄 마지막 링을 목표 기둥으로 이동한다\n",
    "    hanoi(rings - 1, b, c, a) \n",
    "    # 중간 기둥에 마지막 제외한 링이 순서 대로 싸여 있고 마지막기둥에 제일큰 링이 있음, 링이 없는 시작점이 목표기둥 중간 기둥이 시작 기둥 마지막 기둥이 목표기둥\n",
    "\n",
    "hanoi(4, 'a', 'c', 'b')"
   ]
  },
  {
   "attachments": {},
   "cell_type": "markdown",
   "metadata": {},
   "source": [
    "C-4.15 Write a recursive function that will output all the subsets of a set of n\n",
    "elements (without repeating any subsets)."
   ]
  },
  {
   "cell_type": "code",
   "execution_count": 18,
   "metadata": {},
   "outputs": [
    {
     "name": "stdout",
     "output_type": "stream",
     "text": [
      "{1, 2, 3}\n",
      "{1, 2}\n",
      "{1, 3}\n",
      "{1}\n",
      "{2, 3}\n",
      "{2}\n",
      "{3}\n",
      "set()\n"
     ]
    }
   ],
   "source": [
    "# set([1, 2, 3, 3, 2]) -> {1, 2, 3} : 겹치는 수는 하나로, 배열은 딕셔너리로\n",
    "\n",
    "def pick(_all:list[int], _cur:set[int] = {}):\n",
    "    if len(_all) == 0:\n",
    "        print( _cur )\n",
    "        return\n",
    "    all = _all[1:] # 첫번쨰 제외하고 나머지 배열로 복사\n",
    "\n",
    "    cur1 = set(_cur)\n",
    "    cur1.add(_all[0]) # 제외한 첫번쨰 숫자를 cur1에 추가\n",
    "\n",
    "    cur2 = set(_cur)\n",
    "\n",
    "    pick(all, cur1) # [2, 3] {1} -> [3] {1, 2} -> [] {1, 2, 3} -> {1, 2, 3}\n",
    "                    # \n",
    "    pick(all, cur2) # [2, 3] {} \n",
    "\n",
    "pick([1, 2, 3])"
   ]
  },
  {
   "cell_type": "code",
   "execution_count": 19,
   "metadata": {},
   "outputs": [
    {
     "name": "stdout",
     "output_type": "stream",
     "text": [
      "[]\n"
     ]
    }
   ],
   "source": [
    "print([3][1:])"
   ]
  }
 ],
 "metadata": {
  "kernelspec": {
   "display_name": "Python 3",
   "language": "python",
   "name": "python3"
  },
  "language_info": {
   "codemirror_mode": {
    "name": "ipython",
    "version": 3
   },
   "file_extension": ".py",
   "mimetype": "text/x-python",
   "name": "python",
   "nbconvert_exporter": "python",
   "pygments_lexer": "ipython3",
   "version": "3.11.1"
  },
  "orig_nbformat": 4,
  "vscode": {
   "interpreter": {
    "hash": "4e99742b0211a168e899a542aeb7ebc885ad0cf702d76a1dcf543780c1c33967"
   }
  }
 },
 "nbformat": 4,
 "nbformat_minor": 2
}
