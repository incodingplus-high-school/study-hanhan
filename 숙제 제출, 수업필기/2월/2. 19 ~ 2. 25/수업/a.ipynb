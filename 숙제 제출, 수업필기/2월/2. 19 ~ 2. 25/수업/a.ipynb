{
 "cells": [
  {
   "attachments": {},
   "cell_type": "markdown",
   "metadata": {},
   "source": [
    "# python magic method\n",
    "\n",
    "``` python\n",
    "# 인스턴스 생성시 호출되는 함수\n",
    "def __init__\n",
    "\n",
    "# 덧샘\n",
    "def __add__\n",
    "\n",
    "# len 함수 출력\n",
    "def __len__\n",
    "\n",
    "# == 썼을 떄 \n",
    "def __eq__\n",
    "\n",
    "# 다른거 찾기..\n",
    "```"
   ]
  },
  {
   "cell_type": "code",
   "execution_count": 28,
   "metadata": {},
   "outputs": [
    {
     "name": "stdout",
     "output_type": "stream",
     "text": [
      "(10, 20)\n"
     ]
    }
   ],
   "source": [
    "class Pos():\n",
    "    x:int = 0\n",
    "    y:int = 0\n",
    "\n",
    "    def __init__(self, x:int, y:int) -> None:\n",
    "        self.x = x\n",
    "        self.y = y\n",
    "\n",
    "    def __str__(self) -> str:\n",
    "        return f\"({self.x}, {self.y})\"\n",
    "\n",
    "# pos1 : instance\n",
    "# Pos : class\n",
    "pos1 = Pos(10, 20)\n",
    "print(pos1)"
   ]
  },
  {
   "cell_type": "code",
   "execution_count": 9,
   "metadata": {},
   "outputs": [
    {
     "name": "stdout",
     "output_type": "stream",
     "text": [
      "(9, 8)\n"
     ]
    }
   ],
   "source": [
    "# __abs__ 절대값\n",
    "# __add__ 더하는거\n",
    "# __sub__ 빼는거\n",
    "# __mul__ 곱하는거\n",
    "\n",
    "import math\n",
    "\n",
    "class Pos():\n",
    "    x:int = 0\n",
    "    y:int = 0\n",
    "\n",
    "    def __init__(self, x:int, y:int) -> None:\n",
    "        self.x = x\n",
    "        self.y = y\n",
    "\n",
    "    def __abs__(self) -> float:\n",
    "        return math.sqrt(self.x ** 2 + self.y ** 2)\n",
    "    def __add__(self, other:'Pos') -> Pos:\n",
    "        d = Pos(self.x + other.x, self.y + other.y)\n",
    "        return f\"({d.x}, {d.y})\"\n",
    "    def __sub__(self, other:'Pos') -> Pos:\n",
    "        d = Pos(self.x - other.x, self.y - other.y)\n",
    "        return f\"({d.x}, {d.y})\"\n",
    "    def __mul__(self, other:'Pos') -> int:\n",
    "        return self.x * other.x + self.y * other.y\n",
    "\n",
    "pos1 = Pos(7, 5)\n",
    "pos2 = Pos(2, 3)\n",
    "print(pos1 + pos2)"
   ]
  },
  {
   "cell_type": "code",
   "execution_count": null,
   "metadata": {},
   "outputs": [],
   "source": []
  }
 ],
 "metadata": {
  "kernelspec": {
   "display_name": "Python 3",
   "language": "python",
   "name": "python3"
  },
  "language_info": {
   "codemirror_mode": {
    "name": "ipython",
    "version": 3
   },
   "file_extension": ".py",
   "mimetype": "text/x-python",
   "name": "python",
   "nbconvert_exporter": "python",
   "pygments_lexer": "ipython3",
   "version": "3.11.1"
  },
  "orig_nbformat": 4,
  "vscode": {
   "interpreter": {
    "hash": "4e99742b0211a168e899a542aeb7ebc885ad0cf702d76a1dcf543780c1c33967"
   }
  }
 },
 "nbformat": 4,
 "nbformat_minor": 2
}
