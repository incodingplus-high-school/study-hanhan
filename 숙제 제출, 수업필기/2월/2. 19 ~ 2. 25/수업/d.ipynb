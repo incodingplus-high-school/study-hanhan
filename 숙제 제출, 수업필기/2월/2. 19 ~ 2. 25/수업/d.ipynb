{
 "cells": [
  {
   "cell_type": "code",
   "execution_count": null,
   "metadata": {},
   "outputs": [],
   "source": [
    "import os\n",
    "\n",
    "def find(rout:str):\n",
    "    li = os.listdir(rout)\n",
    "\n",
    "    for i in li:\n",
    "        if os.path.isdir(os.path.join(rout, i)):\n",
    "            find(os.path.join(rout, i))\n",
    "        else:\n",
    "            print(i)\n",
    "\n",
    "find('/Users/lim16/')\n",
    "# os.path.isdir\n",
    "# os.path.join"
   ]
  },
  {
   "cell_type": "code",
   "execution_count": 96,
   "metadata": {},
   "outputs": [
    {
     "name": "stdout",
     "output_type": "stream",
     "text": [
      "아님\n",
      "맞음\n",
      "맞음\n",
      "맞음\n",
      "맞음\n",
      "맞음\n",
      "맞음\n",
      "맞음\n",
      "맞음\n",
      "맞음\n",
      "맞음\n",
      "맞음\n",
      "맞음\n"
     ]
    }
   ],
   "source": [
    "def sabl(str:str, num:int):\n",
    "    \n",
    "    # if(str[num] == str[len(str) - 1] and len(str) > 1):\n",
    "    #     sabl()\n",
    "    if(len(str) > num):\n",
    "        if(str[num] == str[(len(str) - 1) - num]):\n",
    "            sabl(str, num + 1)\n",
    "        else:\n",
    "            return False\n",
    "\n",
    "sabl('gohangasalamiidmalasagnahog', 0)"
   ]
  }
 ],
 "metadata": {
  "kernelspec": {
   "display_name": "Python 3",
   "language": "python",
   "name": "python3"
  },
  "language_info": {
   "codemirror_mode": {
    "name": "ipython",
    "version": 3
   },
   "file_extension": ".py",
   "mimetype": "text/x-python",
   "name": "python",
   "nbconvert_exporter": "python",
   "pygments_lexer": "ipython3",
   "version": "3.11.1"
  },
  "orig_nbformat": 4,
  "vscode": {
   "interpreter": {
    "hash": "4e99742b0211a168e899a542aeb7ebc885ad0cf702d76a1dcf543780c1c33967"
   }
  }
 },
 "nbformat": 4,
 "nbformat_minor": 2
}
