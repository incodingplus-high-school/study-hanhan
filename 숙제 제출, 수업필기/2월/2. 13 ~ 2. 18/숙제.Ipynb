{
 "cells": [
  {
   "attachments": {},
   "cell_type": "markdown",
   "metadata": {},
   "source": [
    "1. 내가 찾는 값보다 작은 최대값을 리턴하는 함수 만들기"
   ]
  },
  {
   "cell_type": "code",
   "execution_count": 25,
   "metadata": {},
   "outputs": [
    {
     "name": "stdout",
     "output_type": "stream",
     "text": [
      "2\n"
     ]
    }
   ],
   "source": [
    "datas = [1, 2, 3, 4, 5, 6, 7, 8, 8, 9, 9]\n",
    "\n",
    "def search(arr:list[int], min:int, max:int, target:int):\n",
    "    mid = (min + max) // 2\n",
    "    if arr[mid] < target and arr[mid + 1] <= target: return mid\n",
    "    elif arr[mid] > target: return search(arr, min, mid - 1, target)\n",
    "    else: return search(arr, mid + 1, max, target)\n",
    "\n",
    "print(search(datas, 0, len(datas) - 1, 4))"
   ]
  },
  {
   "attachments": {},
   "cell_type": "markdown",
   "metadata": {},
   "source": [
    "2. 두개 구현하기\n",
    "   1. lower bound : 내가 찾고자 하는 값의 이상이 처음 나오는 곳\n",
    "   2. upper bound : 내가 찾고자 하는 값의 이하가 처음 나오는 곳"
   ]
  },
  {
   "cell_type": "code",
   "execution_count": 20,
   "metadata": {},
   "outputs": [
    {
     "name": "stdout",
     "output_type": "stream",
     "text": [
      "3\n",
      "4\n"
     ]
    }
   ],
   "source": [
    "datas = [1, 2, 3, 4, 5, 6, 7, 8, 8, 9, 9]\n",
    "\n",
    "def lower_bound(arr:list[int], min:int, max:int, target:int):\n",
    "    mid = (min + max) // 2\n",
    "    if min > max: return False\n",
    "    else:\n",
    "        if arr[mid - 1] < target and arr[mid] >= target: return mid\n",
    "        elif arr[mid] > target: return lower_bound(arr, min, mid - 1, target)\n",
    "        else: return lower_bound(arr, mid + 1, max, target)\n",
    "\n",
    "print(lower_bound(datas, 0, len(datas) - 1, 4))\n",
    "\n",
    "def upper_bound(arr:list[int], min:int, max:int, target:int):\n",
    "    mid = (min + max) // 2\n",
    "    if min > max: return False\n",
    "    else:\n",
    "        if arr[mid - 1] <= target and arr[mid] > target: return mid\n",
    "        elif arr[mid] > target: return upper_bound(arr, min, mid - 1, target)\n",
    "        else: return upper_bound(arr, mid + 1, max, target)\n",
    "\n",
    "print(upper_bound(datas, 0, len(datas) - 1, 4))"
   ]
  },
  {
   "attachments": {},
   "cell_type": "markdown",
   "metadata": {},
   "source": [
    "3. 하노이의 탑을 푸는 과정을 프린트하는 함수 만들기\n",
    "\n",
    "A, B, C 기둥 (A 3개)\n",
    "A에서 B로 1번  \n",
    "A에서 C로 2번  \n",
    "B에서 C로 1번  \n",
    "A에서 B로 3번  \n",
    "C에서 A로 1번  \n",
    "C에서 B로 2번  \n",
    "A에서 B로 1번  \n"
   ]
  },
  {
   "cell_type": "code",
   "execution_count": 2,
   "metadata": {},
   "outputs": [
    {
     "name": "stdout",
     "output_type": "stream",
     "text": [
      "a -> c\n",
      "a -> b\n",
      "c -> b\n",
      "a -> c\n",
      "b -> a\n",
      "b -> c\n",
      "a -> c\n"
     ]
    }
   ],
   "source": [
    "def hanoi(rings, a, c, b):\n",
    "    if rings == 1:\n",
    "        print(a, '->', c)\n",
    "        return\n",
    "    hanoi(rings - 1, a, b, c)\n",
    "    print(a, '->', c)\n",
    "    hanoi(rings - 1, b, c, a)\n",
    "\n",
    "hanoi(3, 'a', 'c', 'b')"
   ]
  }
 ],
 "metadata": {
  "kernelspec": {
   "display_name": "Python 3",
   "language": "python",
   "name": "python3"
  },
  "language_info": {
   "codemirror_mode": {
    "name": "ipython",
    "version": 3
   },
   "file_extension": ".py",
   "mimetype": "text/x-python",
   "name": "python",
   "nbconvert_exporter": "python",
   "pygments_lexer": "ipython3",
   "version": "3.11.1"
  },
  "orig_nbformat": 4,
  "vscode": {
   "interpreter": {
    "hash": "4e99742b0211a168e899a542aeb7ebc885ad0cf702d76a1dcf543780c1c33967"
   }
  }
 },
 "nbformat": 4,
 "nbformat_minor": 2
}
