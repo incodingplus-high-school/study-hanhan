{
 "cells": [
  {
   "attachments": {},
   "cell_type": "markdown",
   "metadata": {},
   "source": [
    "R-6.1 What values are returned during the following series of stack operations, if\n",
    "executed upon an initially empty stack? push(5), push(3), pop(), push(2),\n",
    "push(8), pop(), pop(), push(9), push(1), pop(), push(7), push(6), pop(),\n",
    "pop(), push(4), pop(), pop()."
   ]
  },
  {
   "cell_type": "code",
   "execution_count": 1,
   "metadata": {},
   "outputs": [
    {
     "name": "stdout",
     "output_type": "stream",
     "text": [
      "-\n",
      "-\n",
      "3\n",
      "-\n",
      "-\n",
      "8\n",
      "2\n",
      "-\n",
      "-\n",
      "1\n",
      "-\n",
      "-\n",
      "6\n",
      "7\n",
      "-\n",
      "4\n",
      "9\n"
     ]
    }
   ],
   "source": [
    "class Stack:\n",
    "    root:list[int] = []\n",
    "\n",
    "    def __init__(self):\n",
    "        self.root = []\n",
    "    \n",
    "    def push(self, data:int):\n",
    "        self.root.append(data)\n",
    "        return '-'\n",
    "\n",
    "    def pop(self) -> int:\n",
    "        if len(self.root) == 0: return '\"error\"'\n",
    "        else: return self.root.pop()\n",
    "tree = Stack()\n",
    "print(tree.push(5))\n",
    "print(tree.push(3))\n",
    "print(tree.pop())\n",
    "print(tree.push(2))\n",
    "print(tree.push(8))\n",
    "print(tree.pop())\n",
    "print(tree.pop())\n",
    "print(tree.push(9))\n",
    "print(tree.push(1))\n",
    "print(tree.pop())\n",
    "print(tree.push(7))\n",
    "print(tree.push(6))\n",
    "print(tree.pop())\n",
    "print(tree.pop())\n",
    "print(tree.push(4))\n",
    "print(tree.pop())\n",
    "print(tree.pop())"
   ]
  },
  {
   "attachments": {},
   "cell_type": "markdown",
   "metadata": {},
   "source": [
    "R-6.2 Suppose an initially empty stack S has executed a total of 25 push opera-tions, 12 top operations, and 10 pop operations, 3 of which raised Empty\n",
    "errors that were caught and ignored. What is the current size of S?\n",
    "\n",
    "25 push  \n",
    "12 top  \n",
    "10 pop  \n",
    "\n",
    "-> list는 25개 이고 pop을 하면 10개 빠짐  \n",
    "-> 3번 empty 상태이기 떄문에 pop을 못함  \n",
    "-> 그래서 - 3 해줘야함  \n",
    "\n",
    "3개 빈오류 발생 무시됨  \n",
    "지금 stack S 얼마임?"
   ]
  },
  {
   "cell_type": "code",
   "execution_count": 103,
   "metadata": {},
   "outputs": [
    {
     "name": "stdout",
     "output_type": "stream",
     "text": [
      "12\n"
     ]
    }
   ],
   "source": [
    "print(25 - 10 - 3)"
   ]
  },
  {
   "attachments": {},
   "cell_type": "markdown",
   "metadata": {},
   "source": [
    "R-6.3 Implement a function with signature transfer(S, T) that transfers all ele-ments from stack S onto stack T, so that the element that starts at the top\n",
    "of S is the first to be inserted onto T, and the element at the bottom of S\n",
    "ends up at the top of T.\n",
    "\n",
    "스텍 S T S원소를 T로 옮김 S의 처음 원소가 T의 마지막 원소\n",
    "transfer(S, T) 만드셈\n"
   ]
  },
  {
   "cell_type": "code",
   "execution_count": 1,
   "metadata": {},
   "outputs": [
    {
     "name": "stdout",
     "output_type": "stream",
     "text": [
      "[3, 2, 1]\n"
     ]
    }
   ],
   "source": [
    "class Stack:\n",
    "    root:list[int] = []\n",
    "\n",
    "    def __init__(self):\n",
    "        self.root = []\n",
    "    \n",
    "    def push(self, data:int):\n",
    "        self.root.append(data)\n",
    "        return '-'\n",
    "\n",
    "    def __len__(self) -> int: return len(self.root)\n",
    "        \n",
    "    def pop(self) -> int:\n",
    "        if len(self.root) == 0: return '\"error\"'\n",
    "        else: return self.root.pop()\n",
    "        \n",
    "    def is_empty(self) -> bool:\n",
    "        if len(self.root) == 0: return True\n",
    "        else: return False\n",
    "\n",
    "S = Stack()\n",
    "S.push(1)\n",
    "S.push(2)\n",
    "S.push(3)\n",
    "\n",
    "T = Stack()\n",
    "\n",
    "\n",
    "def transfer(S:'Stack', T:'Stack'):\n",
    "    if S.is_empty() == True: return print(T.root)\n",
    "    else: \n",
    "        T.push(S.pop())\n",
    "        transfer(S, T)\n",
    "\n",
    "transfer(S, T)"
   ]
  },
  {
   "attachments": {},
   "cell_type": "markdown",
   "metadata": {},
   "source": [
    "R-6.4 Give a recursive method for removing all the elements from a stack\n",
    "\n",
    "Stack에 있는 요소를 모두 삭제 하는 제귀함수 만드는 건가??"
   ]
  },
  {
   "cell_type": "code",
   "execution_count": 34,
   "metadata": {},
   "outputs": [
    {
     "name": "stdout",
     "output_type": "stream",
     "text": [
      "Success!\n"
     ]
    }
   ],
   "source": [
    "class Stack:\n",
    "    root:list[int] = []\n",
    "\n",
    "    def __init__(self):\n",
    "        self.root = []\n",
    "    \n",
    "    def push(self, data:int):\n",
    "        self.root.append(data)\n",
    "        return '-'\n",
    "\n",
    "    def pop(self) -> int:\n",
    "        if len(self.root) == 0: return '\"error\"'\n",
    "        else: return self.root.pop()\n",
    "    \n",
    "    def is_empty(self) -> bool:\n",
    "        if len(self.root) == 0: return True\n",
    "        else: return False\n",
    "\n",
    "stack = Stack()\n",
    "stack.push(1)\n",
    "stack.push(2)\n",
    "stack.push(3)\n",
    "stack.push(4)\n",
    "\n",
    "def removing(stack:'Stack') -> str:\n",
    "    if stack.is_empty: return 'Success!'\n",
    "    else:\n",
    "        stack.pop()\n",
    "        removing(stack)\n",
    "\n",
    "print(removing(stack))"
   ]
  },
  {
   "attachments": {},
   "cell_type": "markdown",
   "metadata": {},
   "source": [
    "R-6.5 Implement a function that reverses a list of elements by pushing them onto a stack in one order, and writing them back to the list in reversed order\n",
    "\n",
    "스택에 있는 요소를 역순으로 뺴내어 리스트에 다시 넣으셈??"
   ]
  },
  {
   "cell_type": "code",
   "execution_count": 99,
   "metadata": {},
   "outputs": [
    {
     "name": "stdout",
     "output_type": "stream",
     "text": [
      "[4, 3, 2, 1]\n"
     ]
    }
   ],
   "source": [
    "class Stack:\n",
    "    root:list[int] = [] # <- 이거 하나로 하고 싶은데 모르겠음\n",
    "    reverses_root:list[int] = []\n",
    "\n",
    "    def __init__(self):\n",
    "        self.root = []\n",
    "    \n",
    "    def push(self, data:int):\n",
    "        self.root.append(data)\n",
    "        return '-'\n",
    "\n",
    "    def pop(self) -> int:\n",
    "        if len(self.root) == 0: return '\"error\"'\n",
    "        else: return self.root.pop()\n",
    "    \n",
    "    def top(self) -> int: \n",
    "        if len(self.root) == []: return '\"error\"'\n",
    "        else: \n",
    "            d = self.root[0]\n",
    "            self.root = self.root[1:]\n",
    "            return d\n",
    "\n",
    "stack = Stack()\n",
    "stack.push(1)\n",
    "stack.push(2)\n",
    "stack.push(3)\n",
    "stack.push(4)\n",
    "\n",
    "def reverses(stack:'Stack',):\n",
    "    if len(stack.root) == 0: return\n",
    "    else:\n",
    "        stack.reverses_root.append(stack.pop())\n",
    "        reverses(stack)\n",
    "\n",
    "\n",
    "reverses(stack)\n",
    "\n",
    "print(stack.reverses_root)"
   ]
  },
  {
   "attachments": {},
   "cell_type": "markdown",
   "metadata": {},
   "source": [
    "R-6.6 Give a precise and complete definition of the concept of matching for grouping symbols in an arithmetic expression. Your definition may be recursive."
   ]
  },
  {
   "cell_type": "code",
   "execution_count": null,
   "metadata": {},
   "outputs": [],
   "source": []
  },
  {
   "attachments": {},
   "cell_type": "markdown",
   "metadata": {},
   "source": [
    "R-6.7 What values are returned during the following sequence of queue opera-tions, if executed on an initially empty queue? enqueue(5), enqueue(3), dequeue(), enqueue(2), enqueue(8), dequeue(), dequeue(), enqueue(9), enqueue(1), dequeue(), enqueue(7), enqueue(6), dequeue(), dequeue(), enqueue(4), dequeue(), dequeue()\n",
    "\n",
    "Queue으로 그냥 위에꺼 하셈"
   ]
  },
  {
   "cell_type": "code",
   "execution_count": 100,
   "metadata": {},
   "outputs": [
    {
     "name": "stdout",
     "output_type": "stream",
     "text": [
      "-\n",
      "-\n",
      "5\n",
      "-\n",
      "-\n",
      "3\n",
      "2\n",
      "-\n",
      "-\n",
      "8\n",
      "-\n",
      "-\n",
      "9\n",
      "1\n",
      "-\n",
      "7\n",
      "6\n"
     ]
    }
   ],
   "source": [
    "class Queue:\n",
    "    root:list[int] = []\n",
    "\n",
    "    def __init__(self):\n",
    "        self.root = []\n",
    "    \n",
    "    def enqueue(self, data:int):\n",
    "        self.root.append(data)\n",
    "        return '-'\n",
    "\n",
    "    def dequeue(self) -> int:\n",
    "        if len(self.root) == 0: return '\"error\"'\n",
    "        else: \n",
    "            d = self.root[0]\n",
    "            self.root = self.root[1:]\n",
    "            return d\n",
    "\n",
    "    def __len__(self) -> int: return len(self.root)\n",
    "    \n",
    "    def first(self) -> int: \n",
    "        if len(self.root) == 0: return '\"error\"'\n",
    "        else: return self.root[0]\n",
    "    \n",
    "    def is_empty(self) -> bool:\n",
    "        if len(self.root) == 0: return True\n",
    "        else: return False\n",
    "\n",
    "queue = Queue()\n",
    "\n",
    "print(queue.enqueue(5))\n",
    "print(queue.enqueue(3))\n",
    "print(queue.dequeue())\n",
    "print(queue.enqueue(2))\n",
    "print(queue.enqueue(8))\n",
    "print(queue.dequeue())\n",
    "print(queue.dequeue())\n",
    "print(queue.enqueue(9))\n",
    "print(queue.enqueue(1))\n",
    "print(queue.dequeue())\n",
    "print(queue.enqueue(7))\n",
    "print(queue.enqueue(6))\n",
    "print(queue.dequeue())\n",
    "print(queue.dequeue())\n",
    "print(queue.enqueue(4))\n",
    "print(queue.dequeue())\n",
    "print(queue.dequeue())"
   ]
  },
  {
   "attachments": {},
   "cell_type": "markdown",
   "metadata": {},
   "source": [
    "R-6.8 Suppose an initially empty queue Q has executed a total of 32 enqueue operations, 10 first operations, and 15 dequeue operations, 5 of which raised Empty errors that were caught and ignored. What is the current size of Q?\n",
    "\n",
    "enqueue 32  \n",
    "first 10  \n",
    "dequeue 15  \n",
    "\n",
    "5번 dequeue는 is_Empty 오류 발생하였지만 무시함  \n",
    "-> 삭제 하려고 했지만 비여 있는 리스트 이기 떄문에 오류가 발생함  \n",
    "-> 5번의 dequeue 실패 했기 떄문에 삭제 한것에서 제외..  \n",
    "\n",
    "현재 Q의 크기는 얼마?"
   ]
  },
  {
   "cell_type": "code",
   "execution_count": 102,
   "metadata": {},
   "outputs": [
    {
     "name": "stdout",
     "output_type": "stream",
     "text": [
      "12\n"
     ]
    }
   ],
   "source": [
    "print(32 - 15 - 5)"
   ]
  },
  {
   "attachments": {},
   "cell_type": "markdown",
   "metadata": {},
   "source": [
    "R-6.9 Had the queue of the previous problem been an instance of ArrayQueue that used an initial array of capacity 30, and had its size never been greater than 30, what would be the final value of the front instance variable?"
   ]
  },
  {
   "cell_type": "code",
   "execution_count": null,
   "metadata": {},
   "outputs": [],
   "source": []
  },
  {
   "attachments": {},
   "cell_type": "markdown",
   "metadata": {},
   "source": [
    "R-6.10 Consider what happens if the loop in the ArrayQueue. resize method atlines 53–55 of Code Fragment 6.7 had been implemented as:\n",
    "````py\n",
    "    for k in range(self. size):\n",
    "        self._data[k] = old[k] # rather than old[walk]\n",
    "````\n",
    "Give a clear explanation of what could go wrong"
   ]
  },
  {
   "cell_type": "code",
   "execution_count": null,
   "metadata": {},
   "outputs": [],
   "source": []
  }
 ],
 "metadata": {
  "kernelspec": {
   "display_name": "Python 3",
   "language": "python",
   "name": "python3"
  },
  "language_info": {
   "codemirror_mode": {
    "name": "ipython",
    "version": 3
   },
   "file_extension": ".py",
   "mimetype": "text/x-python",
   "name": "python",
   "nbconvert_exporter": "python",
   "pygments_lexer": "ipython3",
   "version": "3.11.1"
  },
  "orig_nbformat": 4
 },
 "nbformat": 4,
 "nbformat_minor": 2
}
