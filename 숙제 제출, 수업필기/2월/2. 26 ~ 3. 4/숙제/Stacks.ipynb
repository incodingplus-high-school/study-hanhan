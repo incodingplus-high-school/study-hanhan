{
 "cells": [
  {
   "attachments": {},
   "cell_type": "markdown",
   "metadata": {},
   "source": [
    "230p\n",
    "  6.1.1"
   ]
  },
  {
   "cell_type": "code",
   "execution_count": 38,
   "metadata": {},
   "outputs": [
    {
     "name": "stdout",
     "output_type": "stream",
     "text": [
      "-\n",
      "-\n",
      "2\n",
      "3\n",
      "False\n",
      "5\n",
      "True\n",
      "\"error\"\n",
      "-\n",
      "-\n",
      "9\n",
      "-\n",
      "3\n",
      "4\n",
      "-\n",
      "-\n",
      "8\n",
      "\n"
     ]
    }
   ],
   "source": [
    "class Stack:\n",
    "    root:list[int] = []\n",
    "\n",
    "    def __init__(self):\n",
    "        self.root = []\n",
    "    \n",
    "    def push(self, data:int):\n",
    "        self.root.append(data)\n",
    "        return '-'\n",
    "\n",
    "    def pop(self) -> int:\n",
    "        if len(self.root) == 0: return '\"error\"'\n",
    "        else: return self.root.pop()\n",
    "\n",
    "    def __len__(self) -> int: return len(self.root)\n",
    "    \n",
    "    def top(self) -> int: \n",
    "        if len(self.root) == []: return '\"error\"'\n",
    "        else: return self.root[-1]\n",
    "    \n",
    "    def is_empty(self) -> bool:\n",
    "        if len(self.root) == 0: return True\n",
    "        else: return False\n",
    "\n",
    "tree = Stack()\n",
    "\n",
    "print(tree.push(5))\n",
    "print(tree.push(3))\n",
    "print(len(tree))\n",
    "print(tree.pop())\n",
    "print(tree.is_empty())\n",
    "print(tree.pop())\n",
    "print(tree.is_empty())\n",
    "print(tree.pop())\n",
    "print(tree.push(7))\n",
    "print(tree.push(9))\n",
    "print(tree.top())\n",
    "print(tree.push(4))\n",
    "print(len(tree))\n",
    "print(tree.pop())\n",
    "print(tree.push(6))\n",
    "print(tree.push(8))\n",
    "print(tree.pop())\n",
    "\n",
    "print()"
   ]
  },
  {
   "attachments": {},
   "cell_type": "markdown",
   "metadata": {},
   "source": [
    "235p 6.1.3"
   ]
  },
  {
   "cell_type": "code",
   "execution_count": 33,
   "metadata": {},
   "outputs": [
    {
     "name": "stdout",
     "output_type": "stream",
     "text": [
      "[3, 2, 1]\n"
     ]
    }
   ],
   "source": [
    "def reverse(stack:'Stack', arr:list[int] = []) -> list[int]:\n",
    "    if len(arr) == len(stack.root):\n",
    "        print(arr)\n",
    "        return \n",
    "    else:\n",
    "        arr.append(stack.root[-(len(arr) + 1)])\n",
    "        reverse(stack, arr)\n",
    "\n",
    "st = Stack()\n",
    "st.push(1)\n",
    "st.push(2)\n",
    "st.push(3)\n",
    "\n",
    "reverse(st)\n"
   ]
  },
  {
   "cell_type": "code",
   "execution_count": null,
   "metadata": {},
   "outputs": [],
   "source": []
  }
 ],
 "metadata": {
  "kernelspec": {
   "display_name": "Python 3",
   "language": "python",
   "name": "python3"
  },
  "language_info": {
   "codemirror_mode": {
    "name": "ipython",
    "version": 3
   },
   "file_extension": ".py",
   "mimetype": "text/x-python",
   "name": "python",
   "nbconvert_exporter": "python",
   "pygments_lexer": "ipython3",
   "version": "3.11.1"
  },
  "orig_nbformat": 4,
  "vscode": {
   "interpreter": {
    "hash": "4e99742b0211a168e899a542aeb7ebc885ad0cf702d76a1dcf543780c1c33967"
   }
  }
 },
 "nbformat": 4,
 "nbformat_minor": 2
}
