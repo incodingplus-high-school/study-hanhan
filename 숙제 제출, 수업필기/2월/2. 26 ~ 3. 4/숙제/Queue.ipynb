{
 "cells": [
  {
   "attachments": {},
   "cell_type": "markdown",
   "metadata": {},
   "source": [
    "240 6.2.1"
   ]
  },
  {
   "cell_type": "code",
   "execution_count": 24,
   "metadata": {},
   "outputs": [
    {
     "name": "stdout",
     "output_type": "stream",
     "text": [
      "-\n",
      "-\n",
      "2\n",
      "5\n",
      "False\n",
      "3\n",
      "True\n",
      "\"error\"\n",
      "-\n",
      "-\n",
      "7\n",
      "-\n",
      "3\n",
      "7\n"
     ]
    }
   ],
   "source": [
    "class Queue:\n",
    "    root:list[int] = []\n",
    "\n",
    "    def __init__(self):\n",
    "        self.root = []\n",
    "    \n",
    "    def enqueue(self, data:int):\n",
    "        self.root.append(data)\n",
    "        return '-'\n",
    "\n",
    "    def dequeue(self) -> int:\n",
    "        if len(self.root) == 0: return '\"error\"'\n",
    "        else: \n",
    "            d = self.root[0]\n",
    "            self.root = self.root[1:]\n",
    "            return d\n",
    "\n",
    "    def __len__(self) -> int: return len(self.root)\n",
    "    \n",
    "    def first(self) -> int: \n",
    "        if len(self.root) == 0: return '\"error\"'\n",
    "        else: return self.root[0]\n",
    "    \n",
    "    def is_empty(self) -> bool:\n",
    "        if len(self.root) == 0: return True\n",
    "        else: return False\n",
    "\n",
    "tree = Queue()\n",
    "\n",
    "print(tree.enqueue(5))\n",
    "print(tree.enqueue(3))\n",
    "print(len(tree))\n",
    "print(tree.dequeue())\n",
    "print(tree.is_empty())\n",
    "print(tree.dequeue())\n",
    "print(tree.is_empty())\n",
    "print(tree.dequeue())\n",
    "print(tree.enqueue(7))\n",
    "print(tree.enqueue(9))\n",
    "print(tree.first())\n",
    "print(tree.enqueue(4))\n",
    "print(len(tree))\n",
    "print(tree.dequeue())"
   ]
  }
 ],
 "metadata": {
  "kernelspec": {
   "display_name": "Python 3",
   "language": "python",
   "name": "python3"
  },
  "language_info": {
   "codemirror_mode": {
    "name": "ipython",
    "version": 3
   },
   "file_extension": ".py",
   "mimetype": "text/x-python",
   "name": "python",
   "nbconvert_exporter": "python",
   "pygments_lexer": "ipython3",
   "version": "3.11.1"
  },
  "orig_nbformat": 4
 },
 "nbformat": 4,
 "nbformat_minor": 2
}
