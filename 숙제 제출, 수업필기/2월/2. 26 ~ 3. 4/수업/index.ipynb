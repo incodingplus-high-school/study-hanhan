{
 "cells": [
  {
   "cell_type": "code",
   "execution_count": 12,
   "metadata": {},
   "outputs": [
    {
     "data": {
      "text/plain": [
       "[0, 99]"
      ]
     },
     "execution_count": 12,
     "metadata": {},
     "output_type": "execute_result"
    }
   ],
   "source": [
    "import random\n",
    "\n",
    "li = map( lambda _: int(random.random() * 100), [i for i in range(0, 100)])\n",
    "li = list(li)\n",
    "def findminmax(li:list[float], min = float('inf'), max = float('-inf')):\n",
    "    if len(li) == 0: return [min, max]\n",
    "    curMin = min\n",
    "    curMax = max\n",
    "    if li[0] < min: curMin = li[0]\n",
    "    if li[0] > max: curMax = li[0]\n",
    "    return findminmax(li[1:], curMin, curMax)\n",
    "\n",
    "findminmax(li)\n",
    "        "
   ]
  }
 ],
 "metadata": {
  "kernelspec": {
   "display_name": "Python 3",
   "language": "python",
   "name": "python3"
  },
  "language_info": {
   "codemirror_mode": {
    "name": "ipython",
    "version": 3
   },
   "file_extension": ".py",
   "mimetype": "text/x-python",
   "name": "python",
   "nbconvert_exporter": "python",
   "pygments_lexer": "ipython3",
   "version": "3.11.1"
  },
  "orig_nbformat": 4,
  "vscode": {
   "interpreter": {
    "hash": "4e99742b0211a168e899a542aeb7ebc885ad0cf702d76a1dcf543780c1c33967"
   }
  }
 },
 "nbformat": 4,
 "nbformat_minor": 2
}
