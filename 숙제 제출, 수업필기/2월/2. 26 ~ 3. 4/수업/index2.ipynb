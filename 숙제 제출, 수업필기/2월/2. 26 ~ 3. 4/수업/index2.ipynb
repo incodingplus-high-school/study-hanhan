{
 "cells": [
  {
   "cell_type": "code",
   "execution_count": 4,
   "metadata": {},
   "outputs": [
    {
     "name": "stdout",
     "output_type": "stream",
     "text": [
      "True\n"
     ]
    }
   ],
   "source": [
    "from datetime import datetime\n",
    "\n",
    "class PersonInfo:\n",
    "    name:str = ''\n",
    "    birth:str = ''\n",
    "    gender:str = ''\n",
    "\n",
    "    days:int = 0\n",
    "\n",
    "    def __init__(self, name:str, birth:str, gender:bool) -> None:\n",
    "        self.name = name\n",
    "        self.birth = birth\n",
    "        self.days = (datetime.now() - datetime.strptime(self.birth, '%Y-%m-%d')).days\n",
    "\n",
    "        if gender: self.gender = '남자'\n",
    "        else: self.gender = '여자'\n",
    "\n",
    "    def __str__(self) -> str:\n",
    "        date = datetime.strptime(self.birth, '%Y-%m-%d')\n",
    "        return f\"이름은 {self.name}, {date.year}년 {date.month}월 {date.day}일생 {self.gender}입니다.\"\n",
    "\n",
    "    def __abs__(self) -> int:\n",
    "        return f\"{((datetime.now() - datetime.strptime(self.birth, '%Y-%m-%d')).days)}일\"\n",
    "\n",
    "    def __lt__(self, other: 'PersonInfo') -> bool: # <\n",
    "        return self.days < other.days\n",
    "    def __le__(self, other: 'PersonInfo') -> bool: # <=\n",
    "        return self.days <= other.days\n",
    "    def __gt__(self, other: 'PersonInfo') -> bool: # >\n",
    "        return self.days > other.days\n",
    "    def __ge__(self, other: 'PersonInfo') -> bool: # >=\n",
    "        return self.days >= other.days\n",
    "    def __eq__(self, other: 'PersonInfo') -> bool: # ==\n",
    "        return self.name == other.name and self.birth == other.birth and self.gender == other.gender\n",
    "    def __ne__(self, other: 'PersonInfo') -> bool: # !=\n",
    "        return self.name != other.name or self.birth != other.birth or self.gender != other.gender\n",
    "\n",
    "per = PersonInfo('임지수', '2006-02-03', True)\n",
    "per2 = PersonInfo('임지수', '2006-02-01', True)\n",
    "print(per < per2)"
   ]
  },
  {
   "cell_type": "markdown",
   "metadata": {},
   "source": []
  }
 ],
 "metadata": {
  "kernelspec": {
   "display_name": "Python 3",
   "language": "python",
   "name": "python3"
  },
  "language_info": {
   "codemirror_mode": {
    "name": "ipython",
    "version": 3
   },
   "file_extension": ".py",
   "mimetype": "text/x-python",
   "name": "python",
   "nbconvert_exporter": "python",
   "pygments_lexer": "ipython3",
   "version": "3.11.1"
  },
  "orig_nbformat": 4,
  "vscode": {
   "interpreter": {
    "hash": "4e99742b0211a168e899a542aeb7ebc885ad0cf702d76a1dcf543780c1c33967"
   }
  }
 },
 "nbformat": 4,
 "nbformat_minor": 2
}
