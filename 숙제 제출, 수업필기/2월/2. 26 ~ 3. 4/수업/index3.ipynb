{
 "cells": [
  {
   "cell_type": "code",
   "execution_count": 7,
   "metadata": {},
   "outputs": [
    {
     "name": "stdout",
     "output_type": "stream",
     "text": [
      "1 3\n",
      "1 2\n",
      "3 2\n",
      "1 4\n",
      "3 4\n"
     ]
    }
   ],
   "source": [
    "class Node:\n",
    "    left:'Node' = None\n",
    "    right:'Node' = None\n",
    "    data:int\n",
    "    def __init__(self, data:int) -> None:\n",
    "        self.data = data\n",
    "    \n",
    "class Tree:\n",
    "    root:'Node' = None\n",
    "    def push(self, data:int):\n",
    "        if not self.root:\n",
    "            self.root = Node(data)\n",
    "            return\n",
    "        cur = self.root\n",
    "        while cur:\n",
    "            if cur.data > data:\n",
    "                if cur.left:\n",
    "                    cur = cur.left\n",
    "                else:\n",
    "                    cur.left = Node(data)\n",
    "                    return\n",
    "            elif cur.data < data:\n",
    "                if cur.right:\n",
    "                   cur = cur.right\n",
    "                else: \n",
    "                    cur.right = Node(data)\n",
    "                    return\n",
    "            else: return data\n",
    "\n",
    "tree = Tree()\n",
    "tree.push(1)\n",
    "tree.push(3)\n",
    "tree.push(2)\n",
    "tree.push(4)\n",
    "\n",
    "# def jung(node:'Node'):\n",
    "#     if node.left: jung(node.left)\n",
    "#     print(node.data)\n",
    "#     if node.right: jung(node.right)\n",
    "\n",
    "# jung(tree.root)"
   ]
  },
  {
   "cell_type": "markdown",
   "metadata": {},
   "source": []
  },
  {
   "attachments": {},
   "cell_type": "markdown",
   "metadata": {},
   "source": [
    "전위 순회"
   ]
  }
 ],
 "metadata": {
  "kernelspec": {
   "display_name": "Python 3",
   "language": "python",
   "name": "python3"
  },
  "language_info": {
   "codemirror_mode": {
    "name": "ipython",
    "version": 3
   },
   "file_extension": ".py",
   "mimetype": "text/x-python",
   "name": "python",
   "nbconvert_exporter": "python",
   "pygments_lexer": "ipython3",
   "version": "3.11.1"
  },
  "orig_nbformat": 4,
  "vscode": {
   "interpreter": {
    "hash": "4e99742b0211a168e899a542aeb7ebc885ad0cf702d76a1dcf543780c1c33967"
   }
  }
 },
 "nbformat": 4,
 "nbformat_minor": 2
}
