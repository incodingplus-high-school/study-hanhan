{
 "cells": [
  {
   "cell_type": "code",
   "execution_count": null,
   "metadata": {},
   "outputs": [],
   "source": []
  },
  {
   "cell_type": "code",
   "execution_count": 23,
   "metadata": {},
   "outputs": [
    {
     "name": "stdout",
     "output_type": "stream",
     "text": [
      "<__main__.Node object at 0x0000022B83D53A50>\n"
     ]
    }
   ],
   "source": [
    "class Node:\n",
    "    val:int\n",
    "    par:'Node'\n",
    "    children:list['Node']\n",
    "    def __init__(self, val:int):\n",
    "        self.val = val\n",
    "        self.children = []\n",
    "    def __len__(self):\n",
    "        return len(self.children)\n",
    "    def element(self):\n",
    "        return self\n",
    "    def addChild(self, node:'Node'):\n",
    "        if node in self.children:\n",
    "            return False\n",
    "        if hasattr(node, 'par'):\n",
    "            node.par.removeChild(node)\n",
    "        node.par = self\n",
    "        self.children.append(node)\n",
    "        return True\n",
    "    def removeChild(self, node:'Node'):\n",
    "        if node in self.children:\n",
    "            self.children.remove(node)\n",
    "            return True\n",
    "        return False\n",
    "    def parent(self, node:'Node'):\n",
    "        if self == node.par: return None\n",
    "        else: return node.par\n",
    "    def num_children(self, node:'Node'):\n",
    "        return len(node.children)\n",
    "    def is_root(self, node:'Node'):\n",
    "        if self == node.par: return True\n",
    "    def is_leaf(self, node:'Node'):\n",
    "        if not node.children: return True\n",
    "    def iter(self):\n",
    "        pass\n",
    "    \n",
    "\n",
    "class Tree:\n",
    "    _root_:'Node'\n",
    "    def root(self):\n",
    "        if self._root_ : return self._root_\n",
    "        else: return 'empty'\n",
    "    def is_empty(self):\n",
    "        if not self._root_ : return True\n",
    "    def positions(self):\n",
    "        pass\n",
    "\n",
    "t = Tree()\n",
    "t._root_ = Node(10)\n",
    "t._root_.addChild(Node(20))\n",
    "t._root_.addChild(Node(21))\n",
    "t._root_.addChild(Node(22))\n",
    "t._root_.addChild(Node(23))\n",
    "t._root_.children[0].addChild(Node(31))\n",
    "t._root_.children[0].addChild(Node(32))\n",
    "t._root_.children[0].children[0].addChild(Node(61))\n",
    "t._root_.children[0].children[0].addChild(Node(62))\n",
    "t._root_.children[0].children[0].addChild(Node(63))\n",
    "t._root_.children[0].children[0].addChild(Node(64))\n",
    "t._root_.children[0].children[1].addChild(Node(65))\n",
    "t._root_.children[0].children[1].addChild(Node(66))\n",
    "t._root_.children[1].addChild(Node(41))\n",
    "t._root_.children[1].addChild(Node(42))\n",
    "t._root_.children[1].addChild(Node(43))\n",
    "t._root_.children[2].addChild(Node(51))\n",
    "t._root_.children[2].addChild(Node(52))\n",
    "t._root_.children[2].addChild(Node(53))\n",
    "t._root_.children[2].addChild(Node(54))\n",
    "\n",
    "print(t._root_.parent(t._root_.children[0].children[0]))"
   ]
  },
  {
   "attachments": {},
   "cell_type": "markdown",
   "metadata": {},
   "source": []
  },
  {
   "cell_type": "code",
   "execution_count": 25,
   "metadata": {},
   "outputs": [],
   "source": [
    "if not [2, 3]: print(12)"
   ]
  }
 ],
 "metadata": {
  "kernelspec": {
   "display_name": "Python 3",
   "language": "python",
   "name": "python3"
  },
  "language_info": {
   "codemirror_mode": {
    "name": "ipython",
    "version": 3
   },
   "file_extension": ".py",
   "mimetype": "text/x-python",
   "name": "python",
   "nbconvert_exporter": "python",
   "pygments_lexer": "ipython3",
   "version": "3.11.1"
  },
  "orig_nbformat": 4
 },
 "nbformat": 4,
 "nbformat_minor": 2
}
