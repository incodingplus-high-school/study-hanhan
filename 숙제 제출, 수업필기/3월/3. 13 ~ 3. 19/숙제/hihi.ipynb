{
 "cells": [
  {
   "cell_type": "code",
   "execution_count": 7,
   "metadata": {},
   "outputs": [
    {
     "name": "stdout",
     "output_type": "stream",
     "text": [
      "-+((5*2)(8/3))4\n"
     ]
    }
   ],
   "source": [
    "from typing import Callable\n",
    "op = '5 2 + 8 3 - * 4 /'\n",
    "dic:dict[str, Callable[[float, float], float]] = {\n",
    "    '+': lambda b, a : a + b,\n",
    "    '-': lambda b, a : a - b,\n",
    "    '*': lambda b, a : a * b,\n",
    "    '/': lambda b, a : a / b\n",
    "}\n",
    "S = []\n",
    "for i in op.split(' '):\n",
    "    if i.isnumeric():\n",
    "        S.append(float(i))\n",
    "    else:\n",
    "        S.append(dic[i](S.pop(), S.pop()))\n",
    "# print(S.pop())"
   ]
  }
 ],
 "metadata": {
  "kernelspec": {
   "display_name": "Python 3",
   "language": "python",
   "name": "python3"
  },
  "language_info": {
   "codemirror_mode": {
    "name": "ipython",
    "version": 3
   },
   "file_extension": ".py",
   "mimetype": "text/x-python",
   "name": "python",
   "nbconvert_exporter": "python",
   "pygments_lexer": "ipython3",
   "version": "3.11.1"
  },
  "orig_nbformat": 4
 },
 "nbformat": 4,
 "nbformat_minor": 2
}
