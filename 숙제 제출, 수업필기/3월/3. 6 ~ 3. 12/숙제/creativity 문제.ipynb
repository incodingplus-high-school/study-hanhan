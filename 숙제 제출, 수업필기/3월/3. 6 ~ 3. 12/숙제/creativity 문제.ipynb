{
 "cells": [
  {
   "cell_type": "code",
   "execution_count": 122,
   "metadata": {},
   "outputs": [],
   "source": [
    "class Queue:\n",
    "    root:list[int]\n",
    "\n",
    "    def __init__(self, root = []):\n",
    "        self.root = root\n",
    "    \n",
    "    def enqueue(self, data:int):\n",
    "        self.root.append(data)\n",
    "        return '-'\n",
    "\n",
    "    def dequeue(self) -> int:\n",
    "        if len(self.root) == 0: return '\"error\"'\n",
    "        else: \n",
    "            d = self.root[0]\n",
    "            self.root = self.root[1:]\n",
    "            return d\n",
    "\n",
    "    def __len__(self) -> int: return len(self.root)\n",
    "    \n",
    "    def first(self) -> int: \n",
    "        if len(self.root) == 0: return '\"error\"'\n",
    "        else: return self.root[0]\n",
    "    \n",
    "    def is_empty(self) -> bool:\n",
    "        if len(self.root) == 0: return True\n",
    "        else: return False\n",
    "\n",
    "class Stack:\n",
    "    root:list[int]\n",
    "\n",
    "    def __init__(self, root = []):\n",
    "        self.root = root\n",
    "    \n",
    "    def push(self, data:int):\n",
    "        self.root.append(data)\n",
    "        return '-'\n",
    "\n",
    "    def pop(self) -> int:\n",
    "        if len(self.root) == 0: return '\"error\"'\n",
    "        else: return self.root.pop()\n",
    "\n",
    "    def __len__(self) -> int: return len(self.root)\n",
    "    \n",
    "    def top(self) -> int: \n",
    "        if len(self.root) == 0: return '\"error\"'\n",
    "        else: return self.root[-1]\n",
    "    \n",
    "    def is_empty(self) -> bool:\n",
    "        if len(self.root) == 0: return True\n",
    "        else: return False\n",
    "\n",
    "class D:\n",
    "    root:list[int]\n",
    "\n",
    "    def __len__(self) -> int: return len(self.root)\n",
    "    \n",
    "    def __init__(self, root = []):\n",
    "        self.root = root\n",
    "    \n",
    "    def f_add(self, val:int):\n",
    "        self.root.insert(0, val)\n",
    "    \n",
    "    def f_del(self):\n",
    "        return self.root.pop(0)\n",
    "    \n",
    "    def l_add(self, val:int):\n",
    "        self.root.append(val)\n",
    "    \n",
    "    def l_del(self):\n",
    "        return self.arr.pop()"
   ]
  },
  {
   "attachments": {},
   "cell_type": "markdown",
   "metadata": {},
   "source": [
    "C-6.15 Suppose Alice has picked three distinct integers and placed them into a stack S in random order. Write a short, straight-line piece of pseudo-code (with no loops or recursion) that uses only one comparison and only one variable x, yet that results in variable x storing the largest of Alice’s three integers with probability 2/3. Argue why your method is correct.\n",
    "\n",
    "아리스가 세 개의 서로 다른 정수를 선택하고 무작위로 스택 S에 넣었다고 가정합니다. 한 번의 비교와 하나의 변수 x만 사용하여, 변수 x에 앨리스의 세 정수 중 가장 큰 값을 2/3의 확률로 저장하는 직선 코드를 작성하십시오. 방법이 올바른 이유를 설명하십시오.\n",
    "\n",
    "- 반복문이랑 재귀함수 사용 하지 말것\n",
    "- 1/3 확률로 첫번쨰에 큰 숫자를 뽑을 경우는 순서대로 있는 경우\n",
    "- 2/3 확률은 무작위 이거나, 거꾸로 샇인 경우"
   ]
  },
  {
   "cell_type": "code",
   "execution_count": null,
   "metadata": {},
   "outputs": [],
   "source": [
    "import random\n",
    "\n",
    "alice = [int(random.random() * 50) for _ in range(0, 3)]\n",
    "\n",
    "S = Stack(alice)\n",
    "x = S.pop()\n",
    "if x < S.top() : x = S.pop()\n",
    "else : S.pop()\n",
    "if x < S.top() : x = S.pop()\n",
    "else : S.pop()\n",
    "print(x)"
   ]
  },
  {
   "attachments": {},
   "cell_type": "markdown",
   "metadata": {},
   "source": [
    "C-6.18 Show how to use the transfer function, described in Exercise R-6.3, and two temporary stacks, to replace the contents of a given stack S with those same elements, but in reversed order\n",
    "\n",
    "- transfer 함수 사용"
   ]
  },
  {
   "cell_type": "code",
   "execution_count": null,
   "metadata": {},
   "outputs": [],
   "source": [
    "S = Stack([])\n",
    "S.push(1)\n",
    "S.push(2)\n",
    "S.push(3)\n",
    "\n",
    "T = Stack([])\n",
    "\n",
    "T2 = Stack([])\n",
    "\n",
    "def transfer(S:'Stack', T:'Stack'):\n",
    "    if S.is_empty() == True: return\n",
    "    else:\n",
    "        T.push(S.pop())\n",
    "        transfer(S, T)\n",
    "\n",
    "transfer(S, T)\n",
    "transfer(T, T2)\n",
    "transfer(T2, S)\n",
    "\n",
    "print(S.root)"
   ]
  },
  {
   "attachments": {},
   "cell_type": "markdown",
   "metadata": {},
   "source": [
    "C-6.19 In Code Fragment 6.5 we assume that opening tags in HTML have form <name>, as with <li>. More generally, HTML allows optional attributes to be expressed as part of an opening tag. The general form used is <name attribute1=\"value1\" attribute2=\"value2\">; for example, a table can be given a border and additional padding by using an opening tag of <table border=\"3\" cellpadding=\"5\">. Modify Code Frag-ment 6.5 so that it can properly match tags, even when an opening tag may include one or more such attributes."
   ]
  },
  {
   "cell_type": "code",
   "execution_count": null,
   "metadata": {},
   "outputs": [],
   "source": []
  },
  {
   "attachments": {},
   "cell_type": "markdown",
   "metadata": {},
   "source": [
    "C-6.21 Show how to use a stack S and a queue Q to generate all possible subsets of an n-element set T nonrecursively.\n",
    "\n",
    "- stack S, queue Q 사용해서 집합 n개가 있는 집합 T를 모두 만드셈"
   ]
  },
  {
   "cell_type": "code",
   "execution_count": null,
   "metadata": {},
   "outputs": [],
   "source": [
    "def nPr(n:int, r:int):\n",
    "    stack:list[list[int]] = [[]]\n",
    "    res:list[list[int]] = []\n",
    "    while True:\n",
    "        x = stack.pop()\n",
    "        for i in range(0, n):\n",
    "            if i in x: continue\n",
    "            t = [*x, i]\n",
    "            if len(t) == r:\n",
    "                res.append(t)\n",
    "            else: stack.append(t)\n",
    "        if len(stack) == 0:\n",
    "            return res\n",
    "            \n",
    "\n",
    "nPr(4, 3)"
   ]
  },
  {
   "attachments": {},
   "cell_type": "markdown",
   "metadata": {},
   "source": [
    "C-6.22 Postfix notation is an unambiguous way of writing an arithmetic expres-sion without parentheses. It is defined so that if “(exp1)op(exp2)” is a normal, fully parenthesized expression whose operation is op, the postfix version of this is “pexp1 pexp2 op”, where pexp1 is the postfix version of exp1 and pexp2 is the postfix version of exp2. The postfix version of a sin-gle number or variable is just that number or variable. For example, the postfix version of “((5+2) ∗ (8−3))/4” is “5 2 + 8 3 − ∗ 4 /”. Describe a nonrecursive way of evaluating an expression in postfix notation\n",
    "\n",
    "- (5+2) ∗(8-3)/4 -> 5 2 + 8 3 - ∗ 4 /"
   ]
  },
  {
   "cell_type": "code",
   "execution_count": 100,
   "metadata": {},
   "outputs": [
    {
     "name": "stdout",
     "output_type": "stream",
     "text": [
      "5+2 ['5', '2', '+', '8', '3', '-', '*', '4', '/']\n",
      "8-3 [7, '8', '3', '-', '*', '4', '/']\n",
      "7*5 [7, 5, '*', '4', '/']\n",
      "35/4 [35, '4', '/']\n"
     ]
    },
    {
     "data": {
      "text/plain": [
       "[8.75]"
      ]
     },
     "execution_count": 100,
     "metadata": {},
     "output_type": "execute_result"
    }
   ],
   "source": [
    "evaluate = D(list('52+83-*4/'))\n",
    "def d(evaluate:D):\n",
    "    while True:\n",
    "        if len(evaluate) == 1: return evaluate.root\n",
    "        for i in range(len(evaluate)):\n",
    "            if evaluate.root[i] in ['+', '-', '*', '/']:\n",
    "                a = evaluate.root[i - 2]\n",
    "                b = evaluate.root[i]\n",
    "                c = evaluate.root[i - 1]\n",
    "                print(f'{a}{b}{c}', evaluate.root)\n",
    "                evaluate.root.remove(a) \n",
    "                evaluate.root.remove(b) \n",
    "                evaluate.root.remove(c)\n",
    "                d = eval(f'{a}{b}{c}')\n",
    "                evaluate.root.insert(i - 2, d)\n",
    "                break\n",
    "\n",
    "d(evaluate)"
   ]
  },
  {
   "attachments": {},
   "cell_type": "markdown",
   "metadata": {},
   "source": [
    "C-6.23 Suppose you have three nonempty stacks R, S, and T. Describe a sequence of operations that results in S storing all elements originally in T below all of S’s original elements, with both sets of those elements in their original order. The final configuration for R should be the same as its original configuration. For example, if R = [1,2,3], S = [4,5], and T = [6,7,8,9], the final configuration should have R = [1,2,3] and S = [6,7,8,9,4,5].\n",
    "\n",
    "- stack R S T\n",
    "- "
   ]
  },
  {
   "cell_type": "code",
   "execution_count": 120,
   "metadata": {},
   "outputs": [
    {
     "name": "stdout",
     "output_type": "stream",
     "text": [
      "R:  [1, 2, 3, 6, 7, 8, 9, 5, 4]\n",
      "S:  []\n"
     ]
    }
   ],
   "source": [
    "R = Stack([1,2,3])\n",
    "S = Stack([4,5])\n",
    "T = Stack([6,7,8,9])\n",
    "\n"
   ]
  }
 ],
 "metadata": {
  "kernelspec": {
   "display_name": "Python 3",
   "language": "python",
   "name": "python3"
  },
  "language_info": {
   "codemirror_mode": {
    "name": "ipython",
    "version": 3
   },
   "file_extension": ".py",
   "mimetype": "text/x-python",
   "name": "python",
   "nbconvert_exporter": "python",
   "pygments_lexer": "ipython3",
   "version": "3.11.1"
  },
  "orig_nbformat": 4
 },
 "nbformat": 4,
 "nbformat_minor": 2
}
