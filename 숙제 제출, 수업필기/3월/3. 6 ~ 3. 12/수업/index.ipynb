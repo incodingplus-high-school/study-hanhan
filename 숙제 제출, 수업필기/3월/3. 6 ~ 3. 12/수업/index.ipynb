{
 "cells": [
  {
   "cell_type": "code",
   "execution_count": 1,
   "metadata": {},
   "outputs": [
    {
     "ename": "SyntaxError",
     "evalue": "incomplete input (928403926.py, line 8)",
     "output_type": "error",
     "traceback": [
      "\u001b[1;36m  Cell \u001b[1;32mIn[1], line 8\u001b[1;36m\u001b[0m\n\u001b[1;33m    \u001b[0m\n\u001b[1;37m    ^\u001b[0m\n\u001b[1;31mSyntaxError\u001b[0m\u001b[1;31m:\u001b[0m incomplete input\n"
     ]
    }
   ],
   "source": [
    "class DQ:\n",
    "    def __init__(self) -> None:\n",
    "        pass\n",
    "    def add_first(self, data):\n",
    "        pass\n",
    "    def add_last(self, data):\n",
    "        pass\n",
    "    def delete_first(self):\n",
    "        pass\n",
    "    def delete_last(self):\n",
    "        pass\n",
    "    def first(self):\n",
    "        pass\n",
    "    def last(self):\n",
    "        pass\n",
    "    def is_empty(self) -> bool:\n",
    "        if len(self) == 0: return True\n",
    "        else: return False\n",
    "    def __len__(self) -> int: return len(self)"
   ]
  },
  {
   "cell_type": "code",
   "execution_count": null,
   "metadata": {},
   "outputs": [],
   "source": [
    "q.f_add(q.l_delete())\n",
    "q.f_add(q.l_delete())\n",
    "q.f_add(q.l_delete())\n",
    "\n",
    "d.enque(q.l_del())\n",
    "d.enque(q.l_del())\n",
    "d.enque(q.f_del())\n",
    "d.enque(q.f_del())\n",
    "d.enque(q.f_del())"
   ]
  },
  {
   "cell_type": "code",
   "execution_count": 42,
   "metadata": {},
   "outputs": [
    {
     "name": "stdout",
     "output_type": "stream",
     "text": [
      "[5, 5, 5, 5]\n"
     ]
    }
   ],
   "source": [
    "def nPr(n:int, r:int):\n",
    "    stack:list[int] = []\n",
    "\n",
    "    for i in range(n):\n",
    "        stack.append(i + 1)\n",
    "\n",
    "    print(stack)\n",
    "\n",
    "    for i in stack:\n",
    "        f = stack.pop()\n",
    "        for i in range(r):\n",
    "            d = stack[:]\n",
    "            for i in \n",
    "            \n",
    "\n",
    "nPr(4, 3)"
   ]
  },
  {
   "cell_type": "code",
   "execution_count": 69,
   "metadata": {},
   "outputs": [
    {
     "data": {
      "text/plain": [
       "[[3, 2, 0],\n",
       " [3, 2, 1],\n",
       " [3, 1, 0],\n",
       " [3, 1, 2],\n",
       " [3, 0, 1],\n",
       " [3, 0, 2],\n",
       " [2, 3, 0],\n",
       " [2, 3, 1],\n",
       " [2, 1, 0],\n",
       " [2, 1, 3],\n",
       " [2, 0, 1],\n",
       " [2, 0, 3],\n",
       " [1, 3, 0],\n",
       " [1, 3, 2],\n",
       " [1, 2, 0],\n",
       " [1, 2, 3],\n",
       " [1, 0, 2],\n",
       " [1, 0, 3],\n",
       " [0, 3, 1],\n",
       " [0, 3, 2],\n",
       " [0, 2, 1],\n",
       " [0, 2, 3],\n",
       " [0, 1, 2],\n",
       " [0, 1, 3]]"
      ]
     },
     "execution_count": 69,
     "metadata": {},
     "output_type": "execute_result"
    }
   ],
   "source": [
    "def nPr(n:int, r:int):\n",
    "    stack:list[list[int]] = [[]]\n",
    "    res:list[list[int]] = []\n",
    "    while True:\n",
    "        x = stack.pop()\n",
    "        for i in range(0, n):\n",
    "            if i in x: continue\n",
    "            t = [*x, i]\n",
    "            if len(t) == r:\n",
    "                res.append(t)\n",
    "            else: stack.append(t)\n",
    "        if len(stack) == 0:\n",
    "            return res\n",
    "            \n",
    "\n",
    "nPr(4, 3)"
   ]
  }
 ],
 "metadata": {
  "kernelspec": {
   "display_name": "Python 3",
   "language": "python",
   "name": "python3"
  },
  "language_info": {
   "codemirror_mode": {
    "name": "ipython",
    "version": 3
   },
   "file_extension": ".py",
   "mimetype": "text/x-python",
   "name": "python",
   "nbconvert_exporter": "python",
   "pygments_lexer": "ipython3",
   "version": "3.11.1"
  },
  "orig_nbformat": 4
 },
 "nbformat": 4,
 "nbformat_minor": 2
}
