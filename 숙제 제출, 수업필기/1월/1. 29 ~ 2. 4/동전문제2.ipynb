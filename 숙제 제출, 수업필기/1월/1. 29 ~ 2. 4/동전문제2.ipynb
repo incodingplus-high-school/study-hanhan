{
 "cells": [
  {
   "attachments": {},
   "cell_type": "markdown",
   "metadata": {},
   "source": [
    "1. 재귀함수로 50000원에 10000, 5000, 1000, 500, 100, 50, 10인 경우로 풀기\n",
    "    - 단 모든 동전의 개수의 합이 20개 이하"
   ]
  },
  {
   "cell_type": "code",
   "execution_count": 3,
   "metadata": {},
   "outputs": [
    {
     "name": "stdout",
     "output_type": "stream",
     "text": [
      "110769\n"
     ]
    }
   ],
   "source": [
    "count = 0\n",
    "\n",
    "def pickFun(cur:int, coins:list[int], pick:list[int], ind:int):\n",
    "    global count\n",
    "    if len(coins) == ind + 1:\n",
    "        count += 1\n",
    "        if pick[0] + pick[1] + pick[2] + pick[3] + pick[4] + pick[5] + pick[6] >= 20:\n",
    "            return\n",
    "        return\n",
    "    for j in range(0, cur + 1, coins[ind]):\n",
    "        newPick = pick[:]\n",
    "        newPick[ind] = j // coins[ind]\n",
    "        if newPick[0] + newPick[1] + newPick[2] + newPick[3] + newPick[4] + newPick[5] + newPick[6] >= 20:\n",
    "            return\n",
    "        pickFun(cur - j, coins, newPick, ind + 1)\n",
    "\n",
    "pickFun(50000, [10000, 5000, 1000, 500, 100, 50, 10], [0, 0, 0, 0, 0, 0, 0], 0)\n",
    "print(count)"
   ]
  }
 ],
 "metadata": {
  "kernelspec": {
   "display_name": "Python 3",
   "language": "python",
   "name": "python3"
  },
  "language_info": {
   "codemirror_mode": {
    "name": "ipython",
    "version": 3
   },
   "file_extension": ".py",
   "mimetype": "text/x-python",
   "name": "python",
   "nbconvert_exporter": "python",
   "pygments_lexer": "ipython3",
   "version": "3.11.1"
  },
  "orig_nbformat": 4,
  "vscode": {
   "interpreter": {
    "hash": "4e99742b0211a168e899a542aeb7ebc885ad0cf702d76a1dcf543780c1c33967"
   }
  }
 },
 "nbformat": 4,
 "nbformat_minor": 2
}
