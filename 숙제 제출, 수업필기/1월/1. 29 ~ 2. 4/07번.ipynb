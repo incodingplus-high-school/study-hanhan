{
 "cells": [
  {
   "attachments": {},
   "cell_type": "markdown",
   "metadata": {},
   "source": [
    "#### 07 날짜의 2진수 변환\n",
    "\n",
    "1. YYYYMMDD -> 2진수로 -> 거꾸로 -> 10진수  \n",
    "    YYYYMMDD == 10진수 찾기\n",
    "\n",
    "2. `Date` 객체 없이 풀기 (난이도 ★★★)"
   ]
  },
  {
   "cell_type": "code",
   "execution_count": 140,
   "metadata": {},
   "outputs": [
    {
     "name": "stdout",
     "output_type": "stream",
     "text": [
      "19660713\n",
      "19660905\n",
      "19770217\n",
      "19950617\n",
      "20020505\n",
      "20130201\n"
     ]
    }
   ],
   "source": [
    "import datetime\n",
    "\n",
    "sta = datetime.datetime(1964, 10, 10)\n",
    "end = datetime.datetime(2020, 7, 24)\n",
    "term = end - sta\n",
    "\n",
    "for i in range(1, term.days + 1):\n",
    "    now = int((sta + datetime.timedelta(days=i)).strftime('%Y%m%d'))\n",
    "    b = bin(now)[2:][::-1]\n",
    "    a = int(b, 2)\n",
    "    if(now == a):\n",
    "        print(a)"
   ]
  },
  {
   "cell_type": "code",
   "execution_count": null,
   "metadata": {},
   "outputs": [],
   "source": [
    "# 모르 겠음??"
   ]
  }
 ],
 "metadata": {
  "kernelspec": {
   "display_name": "Python 3",
   "language": "python",
   "name": "python3"
  },
  "language_info": {
   "codemirror_mode": {
    "name": "ipython",
    "version": 3
   },
   "file_extension": ".py",
   "mimetype": "text/x-python",
   "name": "python",
   "nbconvert_exporter": "python",
   "pygments_lexer": "ipython3",
   "version": "3.11.1"
  },
  "orig_nbformat": 4,
  "vscode": {
   "interpreter": {
    "hash": "4e99742b0211a168e899a542aeb7ebc885ad0cf702d76a1dcf543780c1c33967"
   }
  }
 },
 "nbformat": 4,
 "nbformat_minor": 2
}
