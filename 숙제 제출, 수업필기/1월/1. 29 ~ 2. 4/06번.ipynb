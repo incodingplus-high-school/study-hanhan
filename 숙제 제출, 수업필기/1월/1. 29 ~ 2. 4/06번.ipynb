{
 "cells": [
  {
   "attachments": {},
   "cell_type": "markdown",
   "metadata": {},
   "source": [
    "#### 06 콜라츠 추측"
   ]
  },
  {
   "cell_type": "code",
   "execution_count": null,
   "metadata": {},
   "outputs": [],
   "source": [
    "m = 1000000\n",
    "tunNum = 50\n",
    "\n",
    "for i in range(m):\n",
    "    if (i + 1) % 2 == 0 :\n",
    "        num = 0\n",
    "        for j in range(tunNum):\n",
    "            if j == 0  :\n",
    "                num = (i + 1) * 3 + 1\n",
    "            if i + 1 != num :\n",
    "                if  num % 2 == 0 :\n",
    "                    num = num / 2\n",
    "                elif num % 2 == 1 :\n",
    "                    num = num * 3 + 1\n",
    "            elif i + 1 == num :\n",
    "                print(i + 1)\n",
    "                break\n",
    "    else :\n",
    "        continue"
   ]
  },
  {
   "attachments": {},
   "cell_type": "markdown",
   "metadata": {},
   "source": [
    "2. 추가 문제\n",
    "   1. 위와 다르게 처음부터 콜라츠 수열 규칙을 적용한다고 해보자. 그때 1부터 1000000까지의 수 모두에 대해 1까지 가려면 몇 번 step을 가야하는지 배열을 구하여 출력해라.(1초 이하로)\n",
    "   2. 밑 문제 쌤이 풀어줌"
   ]
  },
  {
   "cell_type": "code",
   "execution_count": 5,
   "metadata": {},
   "outputs": [
    {
     "name": "stdout",
     "output_type": "stream",
     "text": [
      "1.2077713012695312ms\n"
     ]
    }
   ],
   "source": [
    "import time\n",
    "\n",
    "steps: dict[int, int] = {}\n",
    "result:list[int] = []\n",
    "def solution(num:int):\n",
    "    if num == 1:\n",
    "        return 0\n",
    "    if steps.get(num) == None:\n",
    "        if num % 2 == 0:\n",
    "            steps[num] = solution(num // 2) + 1\n",
    "        else:\n",
    "            steps[num] = solution(3 * num + 1) + 1\n",
    "    return steps.get(num)\n",
    "pre = time.time()\n",
    "\n",
    "for i in range(1, 1000000 + 1):\n",
    "    result.append(solution(i))\n",
    "# print(len(result))\n",
    "print(f\"{time.time() - pre}ms\")"
   ]
  }
 ],
 "metadata": {
  "kernelspec": {
   "display_name": "Python 3",
   "language": "python",
   "name": "python3"
  },
  "language_info": {
   "codemirror_mode": {
    "name": "ipython",
    "version": 3
   },
   "file_extension": ".py",
   "mimetype": "text/x-python",
   "name": "python",
   "nbconvert_exporter": "python",
   "pygments_lexer": "ipython3",
   "version": "3.11.1"
  },
  "orig_nbformat": 4,
  "vscode": {
   "interpreter": {
    "hash": "4e99742b0211a168e899a542aeb7ebc885ad0cf702d76a1dcf543780c1c33967"
   }
  }
 },
 "nbformat": 4,
 "nbformat_minor": 2
}
