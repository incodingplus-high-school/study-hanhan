{
 "cells": [
  {
   "attachments": {},
   "cell_type": "markdown",
   "metadata": {},
   "source": [
    "1. 기본 문제\n",
    "2. 추가 문제\n",
    "   1. 위의 문제를 풀었으면, 맵의 특정한 좌표를 랜덤 함수로 정하고(-100~100 범위), 그 위치까지 가기 위한 최단경로 수를 구하는 프로그램을 만들어라.\n",
    "   2. 한방 공식으로 풀기"
   ]
  },
  {
   "cell_type": "code",
   "execution_count": 6,
   "metadata": {},
   "outputs": [
    {
     "name": "stdout",
     "output_type": "stream",
     "text": [
      "324932\n"
     ]
    }
   ],
   "source": [
    "way = [\n",
    "    (1, 0), (-1, 0), (0,1), (0,-1)\n",
    "]\n",
    "result = []\n",
    "def moveAll(axis:list[tuple[int, int]] = [(0, 0)]):\n",
    "    if len(axis) == 13:\n",
    "        result.append(axis)\n",
    "        return\n",
    "    for i in way:\n",
    "        last = axis[-1]\n",
    "        pos = (last[0] + i[0], last[1] + i[1])\n",
    "        if(pos not in axis):\n",
    "            arr = axis[:]\n",
    "            arr.append(pos)\n",
    "            moveAll(arr)\n",
    "moveAll()\n",
    "print(len(result))"
   ]
  },
  {
   "cell_type": "code",
   "execution_count": null,
   "metadata": {},
   "outputs": [],
   "source": []
  }
 ],
 "metadata": {
  "kernelspec": {
   "display_name": "Python 3",
   "language": "python",
   "name": "python3"
  },
  "language_info": {
   "codemirror_mode": {
    "name": "ipython",
    "version": 3
   },
   "file_extension": ".py",
   "mimetype": "text/x-python",
   "name": "python",
   "nbconvert_exporter": "python",
   "pygments_lexer": "ipython3",
   "version": "3.11.1"
  },
  "orig_nbformat": 4,
  "vscode": {
   "interpreter": {
    "hash": "4e99742b0211a168e899a542aeb7ebc885ad0cf702d76a1dcf543780c1c33967"
   }
  }
 },
 "nbformat": 4,
 "nbformat_minor": 2
}
