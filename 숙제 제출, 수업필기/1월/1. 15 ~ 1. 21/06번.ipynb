{
 "cells": [
  {
   "attachments": {},
   "cell_type": "markdown",
   "metadata": {},
   "source": [
    "#### 06 콜라츠 추측"
   ]
  },
  {
   "cell_type": "code",
   "execution_count": 2,
   "metadata": {},
   "outputs": [
    {
     "name": "stdout",
     "output_type": "stream",
     "text": [
      "2\n",
      "4\n",
      "8\n",
      "14\n",
      "16\n",
      "20\n",
      "22\n",
      "26\n",
      "40\n",
      "44\n",
      "52\n",
      "106\n",
      "206\n",
      "244\n",
      "274\n",
      "322\n",
      "526\n",
      "668\n",
      "790\n",
      "976\n",
      "1154\n",
      "1438\n",
      "1780\n",
      "1822\n",
      "7288\n"
     ]
    }
   ],
   "source": [
    "m = 1000000\n",
    "tunNum = 100\n",
    "\n",
    "for i in range(m):\n",
    "    if (i + 1) % 2 == 0 :\n",
    "        num = 0\n",
    "        for j in range(tunNum):\n",
    "            if j == 0  :\n",
    "                num = (i + 1) * 3 + 1\n",
    "            if i + 1 != num :\n",
    "                if  num % 2 == 0 :\n",
    "                    num = num / 2\n",
    "                elif num % 2 == 1 :\n",
    "                    num = num * 3 + 1\n",
    "            elif i + 1 == num :\n",
    "                print(i + 1)\n",
    "                break\n",
    "    else :\n",
    "        continue"
   ]
  }
 ],
 "metadata": {
  "kernelspec": {
   "display_name": "Python 3",
   "language": "python",
   "name": "python3"
  },
  "language_info": {
   "codemirror_mode": {
    "name": "ipython",
    "version": 3
   },
   "file_extension": ".py",
   "mimetype": "text/x-python",
   "name": "python",
   "nbconvert_exporter": "python",
   "pygments_lexer": "ipython3",
   "version": "3.11.1"
  },
  "orig_nbformat": 4,
  "vscode": {
   "interpreter": {
    "hash": "4e99742b0211a168e899a542aeb7ebc885ad0cf702d76a1dcf543780c1c33967"
   }
  }
 },
 "nbformat": 4,
 "nbformat_minor": 2
}
