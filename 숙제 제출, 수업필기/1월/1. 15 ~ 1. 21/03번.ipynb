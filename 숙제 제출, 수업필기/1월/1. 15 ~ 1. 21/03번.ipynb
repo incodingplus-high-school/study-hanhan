{
 "cells": [
  {
   "attachments": {},
   "cell_type": "markdown",
   "metadata": {},
   "source": [
    "#### 03 카드 뒤집기"
   ]
  },
  {
   "cell_type": "code",
   "execution_count": 1,
   "metadata": {},
   "outputs": [
    {
     "name": "stdout",
     "output_type": "stream",
     "text": [
      "1\n",
      "4\n",
      "9\n",
      "16\n",
      "25\n",
      "36\n",
      "49\n",
      "64\n",
      "81\n",
      "100\n"
     ]
    }
   ],
   "source": [
    "arr:list[int] = []\n",
    "for i in range(100):\n",
    "    arr.append(0)\n",
    "\n",
    "for i in range(2, 101):\n",
    "    for j in range(1, 101):\n",
    "        if j % i == 0 and arr[j - 1] == 1:\n",
    "            arr[j - 1] = 0\n",
    "        elif j % i == 0:\n",
    "            arr[j - 1] = 1\n",
    "\n",
    "for i in range(100):\n",
    "    if(arr[i] == 0):\n",
    "        print(i + 1)"
   ]
  }
 ],
 "metadata": {
  "kernelspec": {
   "display_name": "Python 3",
   "language": "python",
   "name": "python3"
  },
  "language_info": {
   "codemirror_mode": {
    "name": "ipython",
    "version": 3
   },
   "file_extension": ".py",
   "mimetype": "text/x-python",
   "name": "python",
   "nbconvert_exporter": "python",
   "pygments_lexer": "ipython3",
   "version": "3.11.1 (tags/v3.11.1:a7a450f, Dec  6 2022, 19:58:39) [MSC v.1934 64 bit (AMD64)]"
  },
  "orig_nbformat": 4,
  "vscode": {
   "interpreter": {
    "hash": "4e99742b0211a168e899a542aeb7ebc885ad0cf702d76a1dcf543780c1c33967"
   }
  }
 },
 "nbformat": 4,
 "nbformat_minor": 2
}
