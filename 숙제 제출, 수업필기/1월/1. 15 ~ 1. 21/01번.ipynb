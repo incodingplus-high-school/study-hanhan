{
 "cells": [
  {
   "attachments": {},
   "cell_type": "markdown",
   "metadata": {},
   "source": [
    "#### 01 앞뒤가 같은 10진수 만들기"
   ]
  },
  {
   "cell_type": "code",
   "execution_count": 1,
   "metadata": {},
   "outputs": [],
   "source": [
    "import math"
   ]
  },
  {
   "cell_type": "code",
   "execution_count": 2,
   "metadata": {},
   "outputs": [
    {
     "name": "stdout",
     "output_type": "stream",
     "text": [
      "1111 1001001001 585\n"
     ]
    }
   ],
   "source": [
    "for i in range(10, 9999):\n",
    "    o = oct(i) ## 8진수\n",
    "    b = bin(i) ## 2진수\n",
    "    o2 = o[2:math.ceil(len(o[2:]) / 2) + 2]\n",
    "    o3 = str(o[math.floor(len(o[2:]) / 2) + 2 :])[::-1]\n",
    "    \n",
    "    b2 = b[2:math.ceil(len(b[2:]) / 2) + 2]\n",
    "    b3 = str(b[math.floor(len(b[2:]) / 2) + 2 :])[::-1]\n",
    "\n",
    "    ad = str(i)\n",
    "    \n",
    "    g2 = ad[0:math.ceil(len(ad) / 2)]\n",
    "    g3 = str(ad[math.floor(len(ad) / 2):])[::-1]\n",
    "\n",
    "    if o2 == o3 and b2 == b3 and g2 == g3:\n",
    "        print(o[2:], b[2:], ad)"
   ]
  }
 ],
 "metadata": {
  "kernelspec": {
   "display_name": "Python 3",
   "language": "python",
   "name": "python3"
  },
  "language_info": {
   "codemirror_mode": {
    "name": "ipython",
    "version": 3
   },
   "file_extension": ".py",
   "mimetype": "text/x-python",
   "name": "python",
   "nbconvert_exporter": "python",
   "pygments_lexer": "ipython3",
   "version": "3.11.1"
  },
  "orig_nbformat": 4,
  "vscode": {
   "interpreter": {
    "hash": "4e99742b0211a168e899a542aeb7ebc885ad0cf702d76a1dcf543780c1c33967"
   }
  }
 },
 "nbformat": 4,
 "nbformat_minor": 2
}
