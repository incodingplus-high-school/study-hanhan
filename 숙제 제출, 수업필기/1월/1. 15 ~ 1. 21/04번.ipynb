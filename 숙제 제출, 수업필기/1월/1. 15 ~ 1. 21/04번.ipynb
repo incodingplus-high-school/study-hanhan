{
 "cells": [
  {
   "attachments": {},
   "cell_type": "markdown",
   "metadata": {},
   "source": [
    "#### 04 막대 자르기\n",
    "- n = 20  m = 3  8번\n",
    "- n = 100 m = 5 22번"
   ]
  },
  {
   "cell_type": "code",
   "execution_count": 2,
   "metadata": {},
   "outputs": [
    {
     "name": "stdout",
     "output_type": "stream",
     "text": [
      "8\n",
      "7\n",
      "6\n",
      "5\n",
      "4\n",
      "3\n",
      "2\n",
      "1\n"
     ]
    },
    {
     "data": {
      "text/plain": [
       "1"
      ]
     },
     "execution_count": 2,
     "metadata": {},
     "output_type": "execute_result"
    }
   ],
   "source": [
    "n = 20\n",
    "m = 3\n",
    "\n",
    "lists = list(map(lambda i: i + 1 , range(n)))\n",
    "\n",
    "def recCut(Num) :\n",
    "    tunNum = Num\n",
    "    tunNum += 1\n",
    "    if(tunNum < m) :\n",
    "        for i in range(tunNum) :\n",
    "            for j in range(len(lists)) :\n",
    "                if type(lists[j]) != list :\n",
    "                    lists[j] = [lists[j]]\n",
    "                    break\n",
    "        if type(lists[len(lists) - 1]) != list:\n",
    "            recCut(tunNum)\n",
    "    elif (tunNum >= m) :\n",
    "        for i in range(m) :\n",
    "            for j in range(len(lists)) :\n",
    "                if type(lists[j]) != list :\n",
    "                    lists[j] = [j]\n",
    "                    break\n",
    "        if type(lists[len(lists) - 1]) != list:\n",
    "            recCut(tunNum)\n",
    "    print(tunNum)\n",
    "    return tunNum\n",
    "\n",
    "recCut(0)"
   ]
  }
 ],
 "metadata": {
  "kernelspec": {
   "display_name": "Python 3",
   "language": "python",
   "name": "python3"
  },
  "language_info": {
   "codemirror_mode": {
    "name": "ipython",
    "version": 3
   },
   "file_extension": ".py",
   "mimetype": "text/x-python",
   "name": "python",
   "nbconvert_exporter": "python",
   "pygments_lexer": "ipython3",
   "version": "3.11.1 (tags/v3.11.1:a7a450f, Dec  6 2022, 19:58:39) [MSC v.1934 64 bit (AMD64)]"
  },
  "orig_nbformat": 4,
  "vscode": {
   "interpreter": {
    "hash": "4e99742b0211a168e899a542aeb7ebc885ad0cf702d76a1dcf543780c1c33967"
   }
  }
 },
 "nbformat": 4,
 "nbformat_minor": 2
}
