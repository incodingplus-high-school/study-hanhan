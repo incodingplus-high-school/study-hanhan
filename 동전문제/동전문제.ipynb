{
 "cells": [
  {
   "attachments": {},
   "cell_type": "markdown",
   "metadata": {},
   "source": [
    "# 동전 문제\n",
    "\n",
    "- 500, 100, 50, 10\n",
    "- 500원을 만들 때\n",
    "- 500 = 0\n",
    "    - 100 = 0\n",
    "        - 50 = 0\n",
    "            - 10 = 0\n",
    "            - 10 = 1\n",
    "            ...\n",
    "            - 10 = 50\n",
    "        - 50 = 1\n",
    "            - 10 = 0\n",
    "            - 10 = 1\n",
    "            ...\n",
    "            - 10 = 45\n",
    "        ...\n",
    "        - 50 = 10\n",
    "    - 100 = 1\n",
    "    ...\n",
    "    - 100 = 5"
   ]
  },
  {
   "cell_type": "code",
   "execution_count": 4,
   "metadata": {},
   "outputs": [
    {
     "name": "stdout",
     "output_type": "stream",
     "text": [
      "53\n"
     ]
    }
   ],
   "source": [
    "# for문으로 풀기\n",
    "ori = 1000\n",
    "cur = 1000\n",
    "coin_500 = 0\n",
    "count = 0\n",
    "while(cur >= 0):\n",
    "    # 코드\n",
    "    coin_100 = 0\n",
    "    while(cur >= 0):\n",
    "        coin_50 = 0\n",
    "        while(cur >= 0):\n",
    "            if coin_500 // 500 <= 15 and coin_100 // 100 <= 15 and coin_50 // 50 <= 15 and cur // 10 <= 15:\n",
    "                count += 1\n",
    "            coin_50 += 50\n",
    "            cur = ori - coin_500 - coin_100 - coin_50\n",
    "        coin_100 += 100\n",
    "        cur = ori - coin_500 - coin_100\n",
    "    coin_500 += 500\n",
    "    cur = ori - coin_500\n",
    "print(count)"
   ]
  },
  {
   "cell_type": "code",
   "execution_count": 19,
   "metadata": {},
   "outputs": [
    {
     "name": "stdout",
     "output_type": "stream",
     "text": [
      "11372\n"
     ]
    }
   ],
   "source": [
    "def countCash(cur:int, li:tuple[int], ind = 0):\n",
    "    if ind == len(li) and cur == 0 :\n",
    "        return 1\n",
    "    elif ind == len(li) and cur > 0 :\n",
    "        return 0\n",
    "    count = 0\n",
    "    curCoin = li[ind]\n",
    "    c_cnt = cur // curCoin\n",
    "    for i in range(min(c_cnt, 15) + 1):\n",
    "        nextCur = cur-(i * curCoin)\n",
    "        if nextCur < 0:\n",
    "            break\n",
    "        count += countCash(nextCur, li, ind + 1)\n",
    "    return count\n",
    "\n",
    "print(countCash(50000, (10000, 5000, 1000, 500, 100, 50, 10)))\n",
    "\n",
    "# x = 1000\n",
    "# x = 2a\n",
    "# a = 5b\n",
    "# b = 2c\n",
    "# c = 5d"
   ]
  },
  {
   "cell_type": "code",
   "execution_count": null,
   "metadata": {},
   "outputs": [],
   "source": []
  }
 ],
 "metadata": {
  "kernelspec": {
   "display_name": "Python 3.7.5 64-bit",
   "language": "python",
   "name": "python3"
  },
  "language_info": {
   "codemirror_mode": {
    "name": "ipython",
    "version": 3
   },
   "file_extension": ".py",
   "mimetype": "text/x-python",
   "name": "python",
   "nbconvert_exporter": "python",
   "pygments_lexer": "ipython3",
   "version": "3.7.5"
  },
  "orig_nbformat": 4,
  "vscode": {
   "interpreter": {
    "hash": "0a54084e6b208ee8d1ce3989ffc20924477a5f55f5a43e22e699a6741623861e"
   }
  }
 },
 "nbformat": 4,
 "nbformat_minor": 2
}
