{
 "cells": [
  {
   "cell_type": "code",
   "execution_count": 1,
   "metadata": {},
   "outputs": [
    {
     "name": "stdout",
     "output_type": "stream",
     "text": [
      "34\n"
     ]
    }
   ],
   "source": [
    "count = 0\n",
    "for i in range(2, 10000):\n",
    "    num = 3 * i + 1\n",
    "    while(num != 1):\n",
    "        if num == i:\n",
    "            count += 1\n",
    "            break\n",
    "        if num % 2 == 0:\n",
    "            num = num // 2\n",
    "        else:\n",
    "            num = 3 * num + 1\n",
    "print(count)"
   ]
  },
  {
   "cell_type": "code",
   "execution_count": 12,
   "metadata": {},
   "outputs": [
    {
     "name": "stdout",
     "output_type": "stream",
     "text": [
      "[0, 1, 7, 2, 5, 8, 16, 3, 19, 6, 14, 9, 9, 17, 17, 4, 12, 20, 20, 7, 7, 15, 15, 10, 23, 10, 111, 18, 18, 18, 106, 5, 26, 13, 13, 21, 21, 21, 34, 8, 109, 8, 29, 16, 16, 16, 104, 11, 24, 24, 24, 11, 11, 112, 112, 19, 32, 19, 32, 19, 19, 107, 107, 6, 27, 27, 27, 14, 14, 14, 102, 22, 115, 22, 14, 22, 22, 35, 35, 9, 22, 110, 110, 9, 9, 30, 30, 17, 30, 17, 92, 17, 17, 105, 105, 12, 118, 25, 25]\n"
     ]
    }
   ],
   "source": [
    "arr = [0 for i in range(500000 + 1)]\n",
    "def cola(num:int)->int:\n",
    "    if num == 1: return 0\n",
    "    if num % 2 == 0:\n",
    "        if num < len(arr):\n",
    "            if arr[num] == 0:\n",
    "                arr[num] = cola(num // 2) + 1\n",
    "            return arr[num]\n",
    "        return cola(num // 2) + 1\n",
    "    else:\n",
    "        if num < len(arr):\n",
    "            if arr[num] == 0:\n",
    "                arr[num] = cola(3 * num + 1) + 1\n",
    "            return arr[num]\n",
    "        return cola(3 * num + 1) + 1\n",
    "for i in range(1, 500000 + 1):\n",
    "    cola(i)\n",
    "print(arr[1:100])"
   ]
  }
 ],
 "metadata": {
  "kernelspec": {
   "display_name": "Python 3",
   "language": "python",
   "name": "python3"
  },
  "language_info": {
   "codemirror_mode": {
    "name": "ipython",
    "version": 3
   },
   "file_extension": ".py",
   "mimetype": "text/x-python",
   "name": "python",
   "nbconvert_exporter": "python",
   "pygments_lexer": "ipython3",
   "version": "3.10.9"
  },
  "orig_nbformat": 4,
  "vscode": {
   "interpreter": {
    "hash": "fe0425fca59b0166c31534c42d5159b7269c0f751dff544382401a6ccd2edd2f"
   }
  }
 },
 "nbformat": 4,
 "nbformat_minor": 2
}
