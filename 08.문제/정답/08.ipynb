{
 "cells": [
  {
   "cell_type": "code",
   "execution_count": 25,
   "metadata": {},
   "outputs": [
    {
     "name": "stdout",
     "output_type": "stream",
     "text": [
      "324932\n"
     ]
    }
   ],
   "source": [
    "way = [\n",
    "    (1, 0), (-1, 0), (0, 1), (0, -1)\n",
    "]\n",
    "result = []\n",
    "def moveAll(axis:list[tuple[int, int]] = [(0, 0)]):\n",
    "    if len(axis) == 13:\n",
    "        result.append(axis)\n",
    "        return\n",
    "    for i in way:\n",
    "        last = axis[-1]\n",
    "        pos = (last[0] + i[0], last[1] + i[1])\n",
    "        if pos not in axis:\n",
    "            arr = axis[:]\n",
    "            arr.append(pos)\n",
    "            moveAll(arr)\n",
    "moveAll()\n",
    "print(len(result))"
   ]
  }
 ],
 "metadata": {
  "kernelspec": {
   "display_name": "Python 3",
   "language": "python",
   "name": "python3"
  },
  "language_info": {
   "codemirror_mode": {
    "name": "ipython",
    "version": 3
   },
   "file_extension": ".py",
   "mimetype": "text/x-python",
   "name": "python",
   "nbconvert_exporter": "python",
   "pygments_lexer": "ipython3",
   "version": "3.10.9"
  },
  "orig_nbformat": 4,
  "vscode": {
   "interpreter": {
    "hash": "fe0425fca59b0166c31534c42d5159b7269c0f751dff544382401a6ccd2edd2f"
   }
  }
 },
 "nbformat": 4,
 "nbformat_minor": 2
}
