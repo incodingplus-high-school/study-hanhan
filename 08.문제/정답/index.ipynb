{
 "cells": [
  {
   "cell_type": "code",
   "execution_count": 45,
   "metadata": {},
   "outputs": [
    {
     "name": "stdout",
     "output_type": "stream",
     "text": [
      "120292\n"
     ]
    }
   ],
   "source": [
    "num = 3\n",
    "posis = [(1, 0), (-1, 0), (0, 1), (0, -1)]\n",
    "# print(4 * (3 ** (num-2)))\n",
    "def calc(_num, n = 0, axis:list = [(0, 0)]):\n",
    "    num = _num\n",
    "    if num == 1 : return 1\n",
    "    last = axis[-1]\n",
    "    for i in posis:\n",
    "        pos = (last[0]+i[0], last[1]+i[1])\n",
    "        if pos not in axis:\n",
    "            arr = axis.copy()\n",
    "            arr.append(pos)\n",
    "            n += calc(num - 1, 0, arr)\n",
    "    return n\n",
    "print(calc(num))"
   ]
  },
  {
   "cell_type": "code",
   "execution_count": null,
   "metadata": {},
   "outputs": [],
   "source": []
  }
 ],
 "metadata": {
  "kernelspec": {
   "display_name": "Python 3.7.5 64-bit",
   "language": "python",
   "name": "python3"
  },
  "language_info": {
   "codemirror_mode": {
    "name": "ipython",
    "version": 3
   },
   "file_extension": ".py",
   "mimetype": "text/x-python",
   "name": "python",
   "nbconvert_exporter": "python",
   "pygments_lexer": "ipython3",
   "version": "3.7.5"
  },
  "orig_nbformat": 4,
  "vscode": {
   "interpreter": {
    "hash": "0a54084e6b208ee8d1ce3989ffc20924477a5f55f5a43e22e699a6741623861e"
   }
  }
 },
 "nbformat": 4,
 "nbformat_minor": 2
}
